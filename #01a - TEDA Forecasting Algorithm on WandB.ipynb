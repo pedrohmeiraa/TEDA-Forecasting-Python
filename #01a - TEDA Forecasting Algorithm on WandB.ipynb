{
 "cells": [
  {
   "cell_type": "markdown",
   "metadata": {
    "colab_type": "text",
    "id": "ofwtcgvWTtOW"
   },
   "source": [
    "# #01a - TEDA-Forecasting on WandB"
   ]
  },
  {
   "cell_type": "markdown",
   "metadata": {
    "colab_type": "text",
    "id": "kPHjZ4iMUCjh"
   },
   "source": [
    "## 1. Modules import"
   ]
  },
  {
   "cell_type": "code",
   "execution_count": 1,
   "metadata": {
    "colab": {
     "base_uri": "https://localhost:8080/",
     "height": 71
    },
    "colab_type": "code",
    "executionInfo": {
     "elapsed": 3043,
     "status": "ok",
     "timestamp": 1594664992056,
     "user": {
      "displayName": "PEDRO ANDRADE",
      "photoUrl": "https://lh3.googleusercontent.com/a-/AOh14Gg7rX8Ay3ygspOgL2OSlmHq-_pe_-2BIgJmuTv5=s64",
      "userId": "01424737486386709382"
     },
     "user_tz": 180
    },
    "id": "kc6XdrfD9hd5",
    "outputId": "ffd7e1ee-f1d5-42a6-d770-a5e69e5d754c"
   },
   "outputs": [],
   "source": [
    "import numpy as np\n",
    "import pandas as pd\n",
    "import matplotlib.pyplot as plt\n",
    "import seaborn as sns\n",
    "import plotly.graph_objects as go\n",
    "from plotly.subplots import make_subplots\n",
    "import plotly.express as px\n",
    "from random import randint, sample\n",
    "\n",
    "from sklearn.metrics import classification_report, confusion_matrix, f1_score, accuracy_score, recall_score\n",
    "from sklearn.metrics import mean_squared_error, mean_absolute_error\n",
    "\n",
    "from codecarbon import EmissionsTracker"
   ]
  },
  {
   "cell_type": "markdown",
   "metadata": {},
   "source": [
    "#### Importing our modules:"
   ]
  },
  {
   "cell_type": "code",
   "execution_count": 2,
   "metadata": {
    "colab": {},
    "colab_type": "code",
    "id": "0XA-n1vBrxG3"
   },
   "outputs": [],
   "source": [
    "from teda import TEDA\n",
    "from RLSFilter import RLSFilter\n",
    "\n",
    "from treating import dataTreating, dataSpliting, dataProcessing, dataSplit"
   ]
  },
  {
   "cell_type": "code",
   "execution_count": 3,
   "metadata": {},
   "outputs": [],
   "source": [
    "def find_indices(list_to_check, item_to_find):\n",
    "    indices = []\n",
    "    for idx, value in enumerate(list_to_check):\n",
    "        if value == item_to_find:\n",
    "            indices.append(idx)\n",
    "    return indices"
   ]
  },
  {
   "cell_type": "markdown",
   "metadata": {
    "colab_type": "text",
    "id": "s2f127LXUJQ5"
   },
   "source": [
    "## 2. Data managing"
   ]
  },
  {
   "cell_type": "markdown",
   "metadata": {},
   "source": [
    "### 2.1 Power data:"
   ]
  },
  {
   "cell_type": "code",
   "execution_count": 4,
   "metadata": {},
   "outputs": [],
   "source": [
    "data = pd.read_csv(\"Electric_Production.csv\")\n",
    "data.rename(columns={'DATE':'Date', 'IPG2211A2N':'Production'}, inplace=True)\n",
    "data.head()\n",
    "\n",
    "#Variables\n",
    "series = \"Production\"\n",
    "date = \"Date\""
   ]
  },
  {
   "cell_type": "markdown",
   "metadata": {},
   "source": [
    "### 2.2 Inserting outliers:"
   ]
  },
  {
   "cell_type": "code",
   "execution_count": 5,
   "metadata": {},
   "outputs": [],
   "source": [
    "data['label'] = 0"
   ]
  },
  {
   "cell_type": "code",
   "execution_count": 6,
   "metadata": {},
   "outputs": [],
   "source": [
    "outliers_percentage = 8/100\n",
    "\n",
    "#Outliers do tipo zero\n",
    "#z = o[0:np.round(len(o)/2).astype(int)]\n",
    "z = [61,37,287,230,214,162,98,30,278,28,25,314,348,195,113,387]\n",
    "\n",
    "#Outliers do tipo pico\n",
    "#p = o[np.round(len(o)/2).astype(int): -1]\n",
    "p = [125,242,291,377,34,206,249,118,389,12,376,375,74,146,272,368]"
   ]
  },
  {
   "cell_type": "markdown",
   "metadata": {},
   "source": [
    "#### Peak-type outliers will have **twice** the magnitude. Therefore:"
   ]
  },
  {
   "cell_type": "code",
   "execution_count": 7,
   "metadata": {},
   "outputs": [
    {
     "name": "stderr",
     "output_type": "stream",
     "text": [
      "c:\\Users\\Samsung\\anaconda3\\lib\\site-packages\\pandas\\core\\indexing.py:670: SettingWithCopyWarning: \n",
      "A value is trying to be set on a copy of a slice from a DataFrame\n",
      "\n",
      "See the caveats in the documentation: https://pandas.pydata.org/pandas-docs/stable/user_guide/indexing.html#returning-a-view-versus-a-copy\n",
      "  iloc._setitem_with_indexer(indexer, value)\n"
     ]
    }
   ],
   "source": [
    "data['Outlier'] = data[series]\n",
    "\n",
    "data['Outlier'].iloc[p] = 1.5*data[series].iloc[p]\n",
    "data['label'].iloc[p] = 1"
   ]
  },
  {
   "cell_type": "markdown",
   "metadata": {},
   "source": [
    "#### Zero-type outliers has value equals **zero**:"
   ]
  },
  {
   "cell_type": "code",
   "execution_count": 8,
   "metadata": {},
   "outputs": [],
   "source": [
    "data['Outlier'].iloc[z] = 0\n",
    "data['label'].iloc[z] = 1"
   ]
  },
  {
   "cell_type": "markdown",
   "metadata": {},
   "source": [
    "### Let's see the new curve:"
   ]
  },
  {
   "cell_type": "code",
   "execution_count": 9,
   "metadata": {},
   "outputs": [
    {
     "data": {
      "application/vnd.plotly.v1+json": {
       "config": {
        "plotlyServerURL": "https://plot.ly"
       },
       "data": [
        {
         "name": "With Outliers",
         "type": "scatter",
         "xaxis": "x",
         "y": [
          72.5052,
          70.672,
          62.4502,
          57.4714,
          55.3151,
          58.0904,
          62.6202,
          63.2485,
          60.5846,
          56.3154,
          58.0005,
          68.7145,
          109.95855,
          67.9869,
          62.2221,
          57.0329,
          55.8137,
          59.9005,
          65.7655,
          64.4816,
          61.0005,
          57.5322,
          59.3417,
          68.1354,
          73.8152,
          0,
          65.61,
          60.1586,
          0,
          63.8918,
          0,
          70.0669,
          64.1151,
          60.3789,
          93.69645,
          70.5777,
          79.8703,
          0,
          70.2928,
          63.2384,
          61.4065,
          67.1097,
          72.9816,
          75.7655,
          67.5152,
          63.2832,
          65.1078,
          73.8631,
          77.9188,
          76.6822,
          73.3523,
          65.1081,
          63.6892,
          68.4722,
          74.0301,
          75.0448,
          69.3053,
          65.8735,
          69.0706,
          84.1949,
          84.3598,
          0,
          73.1964,
          67.2781,
          65.8218,
          71.4654,
          76.61399999999999,
          77.1052,
          73.061,
          67.4365,
          68.5665,
          77.6839,
          86.0214,
          77.5573,
          110.04749999999999,
          67.15,
          68.8162,
          74.8448,
          80.0928,
          79.1606,
          73.5743,
          68.7538,
          72.5166,
          79.4894,
          85.2855,
          80.1643,
          74.5275,
          69.6441,
          67.1784,
          71.2078,
          77.5081,
          76.5374,
          72.3541,
          69.0286,
          73.4992,
          84.5159,
          87.9464,
          84.5561,
          0,
          71.0578,
          67.6762,
          74.3297,
          82.1048,
          82.0605,
          74.6031,
          69.681,
          74.4292,
          84.2284,
          94.1386,
          87.1607,
          79.2456,
          70.9749,
          69.3844,
          0,
          83.277,
          81.8872,
          75.6826,
          71.2661,
          112.8687,
          84.8147,
          92.4532,
          87.4033,
          81.2661,
          73.8167,
          73.2682,
          117.4539,
          85.9841,
          89.5467,
          78.5035,
          73.7066,
          79.6543,
          90.8251,
          98.9732,
          92.8883,
          86.9356,
          77.2214,
          76.6826,
          81.9306,
          85.9606,
          86.5562,
          79.1919,
          74.6891,
          81.074,
          90.4855,
          98.4613,
          89.7795,
          124.51875000000001,
          76.1476,
          73.8471,
          79.7645,
          88.4519,
          87.7828,
          81.9386,
          77.5027,
          82.0448,
          92.101,
          94.792,
          87.82,
          86.5549,
          76.7521,
          78.0303,
          86.4579,
          0,
          93.531,
          87.5414,
          80.0924,
          81.4349,
          91.6841,
          102.1348,
          91.1829,
          90.7381,
          80.5176,
          79.3887,
          87.8431,
          97.4903,
          96.4157,
          87.2248,
          80.6409,
          82.2025,
          94.5113,
          102.2301,
          94.2989,
          88.0927,
          81.4425,
          84.4552,
          91.0406,
          95.9957,
          99.3704,
          90.9178,
          83.1408,
          88.041,
          102.4558,
          109.1081,
          97.1717,
          92.8283,
          0,
          82.5465,
          90.3955,
          96.074,
          99.5534,
          88.281,
          82.686,
          82.9319,
          93.0381,
          102.9955,
          95.2075,
          139.8834,
          85.795,
          85.2351,
          93.1896,
          102.39299999999999,
          101.6293,
          93.3089,
          86.9002,
          0,
          100.8003,
          110.1807,
          103.8413,
          94.5532,
          85.06200000000001,
          85.4653,
          91.0761,
          102.22,
          104.4682,
          92.9135,
          86.5047,
          88.5735,
          103.5428,
          113.7226,
          106.15899999999999,
          0,
          86.7233,
          89.0302,
          95.5045,
          101.7948,
          100.2025,
          94.024,
          87.5262,
          89.6144,
          105.7263,
          111.1614,
          101.7795,
          148.43475,
          86.4776,
          87.2234,
          99.5076,
          108.3501,
          109.4862,
          99.1155,
          134.63504999999998,
          90.4587,
          108.2257,
          104.4724,
          101.5196,
          98.4017,
          87.5093,
          90.0222,
          100.5244,
          110.9503,
          111.5192,
          95.7632,
          90.3738,
          92.3566,
          103.066,
          112.0576,
          111.8399,
          99.1925,
          90.8177,
          92.0587,
          100.9676,
          107.5686,
          114.1036,
          152.29739999999998,
          93.0068,
          93.9126,
          106.7528,
          114.8331,
          108.2353,
          0,
          90.9944,
          91.2348,
          103.9581,
          110.7631,
          107.5665,
          97.7183,
          90.9979,
          93.8057,
          0,
          116.8316,
          104.4202,
          97.8529,
          132.29595,
          87.5366,
          97.2387,
          103.9086,
          105.7486,
          94.8823,
          89.2977,
          89.3585,
          110.6844,
          119.0166,
          110.53299999999999,
          98.2672,
          86.3,
          90.8364,
          104.3538,
          112.8066,
          112.9014,
          100.1209,
          88.9251,
          92.775,
          114.3266,
          119.488,
          107.3753,
          0,
          89.3583,
          90.0698,
          102.8204,
          114.7068,
          113.5958,
          99.4712,
          90.3566,
          93.8095,
          107.3312,
          111.9646,
          103.3679,
          93.5772,
          87.5566,
          92.7603,
          101.14,
          113.0357,
          109.8601,
          96.7431,
          90.3805,
          94.3417,
          105.2722,
          115.501,
          106.734,
          102.9948,
          91.0092,
          90.9634,
          100.6957,
          110.148,
          108.1756,
          99.2809,
          91.7871,
          97.2853,
          113.4732,
          0,
          112.8811,
          104.7631,
          90.2867,
          92.134,
          101.87799999999999,
          108.5497,
          108.194,
          100.4172,
          92.3837,
          99.7033,
          109.3477,
          120.2696,
          116.3788,
          104.4706,
          89.7461,
          91.09299999999999,
          102.6495,
          111.6354,
          110.5925,
          152.88060000000002,
          91.5959,
          93.0628,
          103.2203,
          117.0837,
          106.6688,
          95.3548,
          133.9881,
          136.10535000000002,
          156.05624999999998,
          114.5397,
          115.5159,
          102.7637,
          91.4867,
          92.89,
          112.7694,
          114.8505,
          99.4901,
          101.0396,
          0,
          92.0805,
          153.2298,
          112.1538,
          108.9312,
          98.6154,
          93.6137,
          97.3359,
          114.7212,
          129.4048
         ],
         "yaxis": "y"
        }
       ],
       "layout": {
        "template": {
         "data": {
          "bar": [
           {
            "error_x": {
             "color": "#2a3f5f"
            },
            "error_y": {
             "color": "#2a3f5f"
            },
            "marker": {
             "line": {
              "color": "#E5ECF6",
              "width": 0.5
             }
            },
            "type": "bar"
           }
          ],
          "barpolar": [
           {
            "marker": {
             "line": {
              "color": "#E5ECF6",
              "width": 0.5
             }
            },
            "type": "barpolar"
           }
          ],
          "carpet": [
           {
            "aaxis": {
             "endlinecolor": "#2a3f5f",
             "gridcolor": "white",
             "linecolor": "white",
             "minorgridcolor": "white",
             "startlinecolor": "#2a3f5f"
            },
            "baxis": {
             "endlinecolor": "#2a3f5f",
             "gridcolor": "white",
             "linecolor": "white",
             "minorgridcolor": "white",
             "startlinecolor": "#2a3f5f"
            },
            "type": "carpet"
           }
          ],
          "choropleth": [
           {
            "colorbar": {
             "outlinewidth": 0,
             "ticks": ""
            },
            "type": "choropleth"
           }
          ],
          "contour": [
           {
            "colorbar": {
             "outlinewidth": 0,
             "ticks": ""
            },
            "colorscale": [
             [
              0,
              "#0d0887"
             ],
             [
              0.1111111111111111,
              "#46039f"
             ],
             [
              0.2222222222222222,
              "#7201a8"
             ],
             [
              0.3333333333333333,
              "#9c179e"
             ],
             [
              0.4444444444444444,
              "#bd3786"
             ],
             [
              0.5555555555555556,
              "#d8576b"
             ],
             [
              0.6666666666666666,
              "#ed7953"
             ],
             [
              0.7777777777777778,
              "#fb9f3a"
             ],
             [
              0.8888888888888888,
              "#fdca26"
             ],
             [
              1,
              "#f0f921"
             ]
            ],
            "type": "contour"
           }
          ],
          "contourcarpet": [
           {
            "colorbar": {
             "outlinewidth": 0,
             "ticks": ""
            },
            "type": "contourcarpet"
           }
          ],
          "heatmap": [
           {
            "colorbar": {
             "outlinewidth": 0,
             "ticks": ""
            },
            "colorscale": [
             [
              0,
              "#0d0887"
             ],
             [
              0.1111111111111111,
              "#46039f"
             ],
             [
              0.2222222222222222,
              "#7201a8"
             ],
             [
              0.3333333333333333,
              "#9c179e"
             ],
             [
              0.4444444444444444,
              "#bd3786"
             ],
             [
              0.5555555555555556,
              "#d8576b"
             ],
             [
              0.6666666666666666,
              "#ed7953"
             ],
             [
              0.7777777777777778,
              "#fb9f3a"
             ],
             [
              0.8888888888888888,
              "#fdca26"
             ],
             [
              1,
              "#f0f921"
             ]
            ],
            "type": "heatmap"
           }
          ],
          "heatmapgl": [
           {
            "colorbar": {
             "outlinewidth": 0,
             "ticks": ""
            },
            "colorscale": [
             [
              0,
              "#0d0887"
             ],
             [
              0.1111111111111111,
              "#46039f"
             ],
             [
              0.2222222222222222,
              "#7201a8"
             ],
             [
              0.3333333333333333,
              "#9c179e"
             ],
             [
              0.4444444444444444,
              "#bd3786"
             ],
             [
              0.5555555555555556,
              "#d8576b"
             ],
             [
              0.6666666666666666,
              "#ed7953"
             ],
             [
              0.7777777777777778,
              "#fb9f3a"
             ],
             [
              0.8888888888888888,
              "#fdca26"
             ],
             [
              1,
              "#f0f921"
             ]
            ],
            "type": "heatmapgl"
           }
          ],
          "histogram": [
           {
            "marker": {
             "colorbar": {
              "outlinewidth": 0,
              "ticks": ""
             }
            },
            "type": "histogram"
           }
          ],
          "histogram2d": [
           {
            "colorbar": {
             "outlinewidth": 0,
             "ticks": ""
            },
            "colorscale": [
             [
              0,
              "#0d0887"
             ],
             [
              0.1111111111111111,
              "#46039f"
             ],
             [
              0.2222222222222222,
              "#7201a8"
             ],
             [
              0.3333333333333333,
              "#9c179e"
             ],
             [
              0.4444444444444444,
              "#bd3786"
             ],
             [
              0.5555555555555556,
              "#d8576b"
             ],
             [
              0.6666666666666666,
              "#ed7953"
             ],
             [
              0.7777777777777778,
              "#fb9f3a"
             ],
             [
              0.8888888888888888,
              "#fdca26"
             ],
             [
              1,
              "#f0f921"
             ]
            ],
            "type": "histogram2d"
           }
          ],
          "histogram2dcontour": [
           {
            "colorbar": {
             "outlinewidth": 0,
             "ticks": ""
            },
            "colorscale": [
             [
              0,
              "#0d0887"
             ],
             [
              0.1111111111111111,
              "#46039f"
             ],
             [
              0.2222222222222222,
              "#7201a8"
             ],
             [
              0.3333333333333333,
              "#9c179e"
             ],
             [
              0.4444444444444444,
              "#bd3786"
             ],
             [
              0.5555555555555556,
              "#d8576b"
             ],
             [
              0.6666666666666666,
              "#ed7953"
             ],
             [
              0.7777777777777778,
              "#fb9f3a"
             ],
             [
              0.8888888888888888,
              "#fdca26"
             ],
             [
              1,
              "#f0f921"
             ]
            ],
            "type": "histogram2dcontour"
           }
          ],
          "mesh3d": [
           {
            "colorbar": {
             "outlinewidth": 0,
             "ticks": ""
            },
            "type": "mesh3d"
           }
          ],
          "parcoords": [
           {
            "line": {
             "colorbar": {
              "outlinewidth": 0,
              "ticks": ""
             }
            },
            "type": "parcoords"
           }
          ],
          "pie": [
           {
            "automargin": true,
            "type": "pie"
           }
          ],
          "scatter": [
           {
            "marker": {
             "colorbar": {
              "outlinewidth": 0,
              "ticks": ""
             }
            },
            "type": "scatter"
           }
          ],
          "scatter3d": [
           {
            "line": {
             "colorbar": {
              "outlinewidth": 0,
              "ticks": ""
             }
            },
            "marker": {
             "colorbar": {
              "outlinewidth": 0,
              "ticks": ""
             }
            },
            "type": "scatter3d"
           }
          ],
          "scattercarpet": [
           {
            "marker": {
             "colorbar": {
              "outlinewidth": 0,
              "ticks": ""
             }
            },
            "type": "scattercarpet"
           }
          ],
          "scattergeo": [
           {
            "marker": {
             "colorbar": {
              "outlinewidth": 0,
              "ticks": ""
             }
            },
            "type": "scattergeo"
           }
          ],
          "scattergl": [
           {
            "marker": {
             "colorbar": {
              "outlinewidth": 0,
              "ticks": ""
             }
            },
            "type": "scattergl"
           }
          ],
          "scattermapbox": [
           {
            "marker": {
             "colorbar": {
              "outlinewidth": 0,
              "ticks": ""
             }
            },
            "type": "scattermapbox"
           }
          ],
          "scatterpolar": [
           {
            "marker": {
             "colorbar": {
              "outlinewidth": 0,
              "ticks": ""
             }
            },
            "type": "scatterpolar"
           }
          ],
          "scatterpolargl": [
           {
            "marker": {
             "colorbar": {
              "outlinewidth": 0,
              "ticks": ""
             }
            },
            "type": "scatterpolargl"
           }
          ],
          "scatterternary": [
           {
            "marker": {
             "colorbar": {
              "outlinewidth": 0,
              "ticks": ""
             }
            },
            "type": "scatterternary"
           }
          ],
          "surface": [
           {
            "colorbar": {
             "outlinewidth": 0,
             "ticks": ""
            },
            "colorscale": [
             [
              0,
              "#0d0887"
             ],
             [
              0.1111111111111111,
              "#46039f"
             ],
             [
              0.2222222222222222,
              "#7201a8"
             ],
             [
              0.3333333333333333,
              "#9c179e"
             ],
             [
              0.4444444444444444,
              "#bd3786"
             ],
             [
              0.5555555555555556,
              "#d8576b"
             ],
             [
              0.6666666666666666,
              "#ed7953"
             ],
             [
              0.7777777777777778,
              "#fb9f3a"
             ],
             [
              0.8888888888888888,
              "#fdca26"
             ],
             [
              1,
              "#f0f921"
             ]
            ],
            "type": "surface"
           }
          ],
          "table": [
           {
            "cells": {
             "fill": {
              "color": "#EBF0F8"
             },
             "line": {
              "color": "white"
             }
            },
            "header": {
             "fill": {
              "color": "#C8D4E3"
             },
             "line": {
              "color": "white"
             }
            },
            "type": "table"
           }
          ]
         },
         "layout": {
          "annotationdefaults": {
           "arrowcolor": "#2a3f5f",
           "arrowhead": 0,
           "arrowwidth": 1
          },
          "autotypenumbers": "strict",
          "coloraxis": {
           "colorbar": {
            "outlinewidth": 0,
            "ticks": ""
           }
          },
          "colorscale": {
           "diverging": [
            [
             0,
             "#8e0152"
            ],
            [
             0.1,
             "#c51b7d"
            ],
            [
             0.2,
             "#de77ae"
            ],
            [
             0.3,
             "#f1b6da"
            ],
            [
             0.4,
             "#fde0ef"
            ],
            [
             0.5,
             "#f7f7f7"
            ],
            [
             0.6,
             "#e6f5d0"
            ],
            [
             0.7,
             "#b8e186"
            ],
            [
             0.8,
             "#7fbc41"
            ],
            [
             0.9,
             "#4d9221"
            ],
            [
             1,
             "#276419"
            ]
           ],
           "sequential": [
            [
             0,
             "#0d0887"
            ],
            [
             0.1111111111111111,
             "#46039f"
            ],
            [
             0.2222222222222222,
             "#7201a8"
            ],
            [
             0.3333333333333333,
             "#9c179e"
            ],
            [
             0.4444444444444444,
             "#bd3786"
            ],
            [
             0.5555555555555556,
             "#d8576b"
            ],
            [
             0.6666666666666666,
             "#ed7953"
            ],
            [
             0.7777777777777778,
             "#fb9f3a"
            ],
            [
             0.8888888888888888,
             "#fdca26"
            ],
            [
             1,
             "#f0f921"
            ]
           ],
           "sequentialminus": [
            [
             0,
             "#0d0887"
            ],
            [
             0.1111111111111111,
             "#46039f"
            ],
            [
             0.2222222222222222,
             "#7201a8"
            ],
            [
             0.3333333333333333,
             "#9c179e"
            ],
            [
             0.4444444444444444,
             "#bd3786"
            ],
            [
             0.5555555555555556,
             "#d8576b"
            ],
            [
             0.6666666666666666,
             "#ed7953"
            ],
            [
             0.7777777777777778,
             "#fb9f3a"
            ],
            [
             0.8888888888888888,
             "#fdca26"
            ],
            [
             1,
             "#f0f921"
            ]
           ]
          },
          "colorway": [
           "#636efa",
           "#EF553B",
           "#00cc96",
           "#ab63fa",
           "#FFA15A",
           "#19d3f3",
           "#FF6692",
           "#B6E880",
           "#FF97FF",
           "#FECB52"
          ],
          "font": {
           "color": "#2a3f5f"
          },
          "geo": {
           "bgcolor": "white",
           "lakecolor": "white",
           "landcolor": "#E5ECF6",
           "showlakes": true,
           "showland": true,
           "subunitcolor": "white"
          },
          "hoverlabel": {
           "align": "left"
          },
          "hovermode": "closest",
          "mapbox": {
           "style": "light"
          },
          "paper_bgcolor": "white",
          "plot_bgcolor": "#E5ECF6",
          "polar": {
           "angularaxis": {
            "gridcolor": "white",
            "linecolor": "white",
            "ticks": ""
           },
           "bgcolor": "#E5ECF6",
           "radialaxis": {
            "gridcolor": "white",
            "linecolor": "white",
            "ticks": ""
           }
          },
          "scene": {
           "xaxis": {
            "backgroundcolor": "#E5ECF6",
            "gridcolor": "white",
            "gridwidth": 2,
            "linecolor": "white",
            "showbackground": true,
            "ticks": "",
            "zerolinecolor": "white"
           },
           "yaxis": {
            "backgroundcolor": "#E5ECF6",
            "gridcolor": "white",
            "gridwidth": 2,
            "linecolor": "white",
            "showbackground": true,
            "ticks": "",
            "zerolinecolor": "white"
           },
           "zaxis": {
            "backgroundcolor": "#E5ECF6",
            "gridcolor": "white",
            "gridwidth": 2,
            "linecolor": "white",
            "showbackground": true,
            "ticks": "",
            "zerolinecolor": "white"
           }
          },
          "shapedefaults": {
           "line": {
            "color": "#2a3f5f"
           }
          },
          "ternary": {
           "aaxis": {
            "gridcolor": "white",
            "linecolor": "white",
            "ticks": ""
           },
           "baxis": {
            "gridcolor": "white",
            "linecolor": "white",
            "ticks": ""
           },
           "bgcolor": "#E5ECF6",
           "caxis": {
            "gridcolor": "white",
            "linecolor": "white",
            "ticks": ""
           }
          },
          "title": {
           "x": 0.05
          },
          "xaxis": {
           "automargin": true,
           "gridcolor": "white",
           "linecolor": "white",
           "ticks": "",
           "title": {
            "standoff": 15
           },
           "zerolinecolor": "white",
           "zerolinewidth": 2
          },
          "yaxis": {
           "automargin": true,
           "gridcolor": "white",
           "linecolor": "white",
           "ticks": "",
           "title": {
            "standoff": 15
           },
           "zerolinecolor": "white",
           "zerolinewidth": 2
          }
         }
        },
        "title": {
         "text": "Dataset"
        },
        "xaxis": {
         "anchor": "y",
         "domain": [
          0,
          0.94
         ],
         "title": {
          "text": "Time (months)"
         }
        },
        "yaxis": {
         "anchor": "x",
         "domain": [
          0,
          1
         ],
         "title": {
          "text": "Eletric Production"
         }
        },
        "yaxis2": {
         "anchor": "x",
         "overlaying": "y",
         "side": "right"
        }
       }
      }
     },
     "metadata": {},
     "output_type": "display_data"
    }
   ],
   "source": [
    "figure = make_subplots(specs=[[{\"secondary_y\": True}]])\n",
    "\n",
    "figure.update_layout(\n",
    "    title=\"Dataset with outliers\"\n",
    ")\n",
    "\n",
    "figure.add_trace(\n",
    "    go.Scatter(y=data['Outlier'], name='With Outliers'),\n",
    "    secondary_y=False\n",
    ")\n",
    "\n",
    "figure.update_xaxes(title='Time (months)')\n",
    "figure.update_yaxes(title='Eletric Production', secondary_y=False)\n",
    "figure.show()"
   ]
  },
  {
   "cell_type": "markdown",
   "metadata": {},
   "source": [
    "## 3. WandB"
   ]
  },
  {
   "cell_type": "markdown",
   "metadata": {},
   "source": [
    "### 3.1 WandB importing"
   ]
  },
  {
   "cell_type": "code",
   "execution_count": null,
   "metadata": {},
   "outputs": [],
   "source": [
    "#!pip install wandb"
   ]
  },
  {
   "cell_type": "code",
   "execution_count": null,
   "metadata": {},
   "outputs": [],
   "source": [
    "import os\n",
    "import wandb\n",
    "import logging"
   ]
  },
  {
   "cell_type": "code",
   "execution_count": null,
   "metadata": {},
   "outputs": [],
   "source": [
    "os.environ[\"WANDB__SERVICE_WAIT\"] = \"100000000\""
   ]
  },
  {
   "cell_type": "code",
   "execution_count": null,
   "metadata": {},
   "outputs": [],
   "source": [
    "!wandb login 40f0acf51f839c9bfbed5c1f24e945ed8245e110"
   ]
  },
  {
   "cell_type": "markdown",
   "metadata": {},
   "source": [
    "### 3.2 Initialize a new W&B run to track this job"
   ]
  },
  {
   "cell_type": "code",
   "execution_count": null,
   "metadata": {},
   "outputs": [],
   "source": [
    "run = wandb.init(project=\"TEDARegressor\", job_type=\"dataset-creation\")"
   ]
  },
  {
   "cell_type": "code",
   "execution_count": null,
   "metadata": {},
   "outputs": [],
   "source": [
    "# Create a new artifact, which is a sample dataset\n",
    "dataset = wandb.Artifact('Electric_Production.csv', type='dataset')\n",
    "# Add files to the artifact, in this case a simple text file\n",
    "dataset.add_file('Electric_Production.csv')\n",
    "# Log the artifact to save it as an output of this run\n",
    "run.log_artifact(dataset)"
   ]
  },
  {
   "cell_type": "markdown",
   "metadata": {},
   "source": [
    "### 3.3 Configure logging:"
   ]
  },
  {
   "cell_type": "code",
   "execution_count": null,
   "metadata": {},
   "outputs": [],
   "source": [
    "logging.basicConfig(level=logging.INFO,\n",
    "                    format=\"%(asctime)s %(message)s\",\n",
    "                    datefmt='%d-%m-%Y %H:%M:%S')\n",
    "\n",
    "# reference for a logging obj\n",
    "logger = logging.getLogger()"
   ]
  },
  {
   "cell_type": "markdown",
   "metadata": {},
   "source": [
    "### 3.4 Defining dictionaries:"
   ]
  },
  {
   "cell_type": "markdown",
   "metadata": {},
   "source": [
    "#### 3.4.1 Metrics dictionary:"
   ]
  },
  {
   "cell_type": "code",
   "execution_count": null,
   "metadata": {},
   "outputs": [],
   "source": [
    "metric_dict = {\n",
    "    'name': 'rmse_pred',\n",
    "    'goal': 'minimize'   \n",
    "    }"
   ]
  },
  {
   "cell_type": "markdown",
   "metadata": {},
   "source": [
    "#### 3.4.2 Parameters dictionary:"
   ]
  },
  {
   "cell_type": "code",
   "execution_count": null,
   "metadata": {},
   "outputs": [],
   "source": [
    "parameters_dict = {\n",
    "    #TEDA Forecasting\n",
    "    'Threshold': {\n",
    "          'values': [1.2, 2, 2.5]\n",
    "        },\n",
    "    'FlagCorrection': {\n",
    "          'values': [True, False]\n",
    "        },\n",
    "    'N_outlier_max': {\n",
    "          'values': [1,2,3]\n",
    "        },   \n",
    "    'FilterOrder': {\n",
    "      'values': [2,3,4]\n",
    "    },\n",
    "    'Forecasting': {\n",
    "      'values': [2,3,4]\n",
    "    },    \n",
    "    'Forgetting': {\n",
    "          'values': [0.95, 0.99, 1]\n",
    "        },    \n",
    "    'Regularization': {\n",
    "          'values': [0.1, 1]         \n",
    "        },\n",
    "}"
   ]
  },
  {
   "cell_type": "markdown",
   "metadata": {},
   "source": [
    "### 3.5 Defining Sweep"
   ]
  },
  {
   "cell_type": "code",
   "execution_count": null,
   "metadata": {},
   "outputs": [],
   "source": [
    "seed = 41\n",
    "sweep_config = {\n",
    "    \"method\": \"grid\", ## Bayesian search => atraves de modelo probabilístico\n",
    "    \"metric\": metric_dict,\n",
    "    \"parameters\": parameters_dict,\n",
    "\n",
    "}\n",
    "sweep_id = wandb.sweep(sweep_config, project=\"TEDARegressor\")"
   ]
  },
  {
   "cell_type": "markdown",
   "metadata": {},
   "source": [
    "### 3.6 Training"
   ]
  },
  {
   "cell_type": "code",
   "execution_count": null,
   "metadata": {},
   "outputs": [],
   "source": [
    "def train():\n",
    "    with wandb.init() as run:\n",
    "        RMSE_full = []\n",
    "        MAE_full = []\n",
    "\n",
    "        window = wandb.config.FilterOrder\n",
    "        forecasting = wandb.config.Forecasting\n",
    "\n",
    "        # Data processing\n",
    "        df, df_train, df_test, X_train, y_train, X_test, y_test = dataSplit(data[\"Outlier\"], data[\"label\"], window=window, forecasting=forecasting, N_splits=4)\n",
    "\n",
    "        # Labels Index\n",
    "        labelsIndex = find_indices(df_test['label'], 1)\n",
    "        ts = np.linspace(0, len(df_test), len(df_test))\n",
    "\n",
    "        #TEDA\n",
    "        teda = TEDA(threshold=wandb.config.Threshold)\n",
    "        N_outlier_max = wandb.config.N_outlier_max    # Consecutive outlier correction flagN_outlier_max   # Maximum of outliers corrected by TEDAForecasting\n",
    "        correction = wandb.config.FlagCorrection    # Consecutive outlier correction flag\n",
    "\n",
    "        FLAG = []\n",
    "\n",
    "        #RLS\n",
    "        filter_order = window                           # Filter_order equivalent to window size\n",
    "        w0 = np.zeros(filter_order).tolist()            # Initial weights\n",
    "        X_ant = np.zeros(filter_order).tolist()         # Initial previous input\n",
    "        rls_filter = RLSFilter(n = window, mu = wandb.config.Forgetting, delta=wandb.config.Regularization, w=w0) #Defining the filter instance\n",
    "\n",
    "        Ya_py = []          # Vector of auxiliary predicted values\n",
    "        Y_py = []           # Vector of predicted values\n",
    "        Y_v = []            # Vector of virtual predicted values\n",
    "        DB = []             # Vector of saved values (database)\n",
    "        outlier_count = 0   # Outlier count \n",
    "        y_pred_py = 0.0     # Initial predicted value\n",
    "\n",
    "        # create codecarbon tracker\n",
    "        # codecarbon is too much verbose, change the log level for more info\n",
    "        tracker = EmissionsTracker(log_level=\"critical\")\n",
    "        tracker.start()        \n",
    "\n",
    "        for i in df_test['x(t)']:\n",
    "            ## Acquiring the data input\n",
    "            valor_atual = i\n",
    "\n",
    "            #Checking if it is an outlier\n",
    "            flag = teda.run(valor_atual)\n",
    "            FLAG.append(flag)\n",
    "\n",
    "            ## First Stage: Correcting outlier\n",
    "            if (flag == 1):       \n",
    "                outlier_count = outlier_count + 1\n",
    "                valor_atual = y_pred_py\n",
    "            else:\n",
    "                outlier_count = 0\n",
    "            \n",
    "            #Evaluating the flood of outliers\n",
    "            if(correction == True and outlier_count == N_outlier_max + 1):\n",
    "                valor_atual = i\n",
    "            \n",
    "            #Saving \n",
    "            Ya_py.append(y_pred_py)\n",
    "\n",
    "            # Updating weights\n",
    "            rls_filter.update(valor_atual, np.array(X_ant))\n",
    "\n",
    "            input_vector = []\n",
    "            for j in X_ant[1:]:\n",
    "                input_vector.append(j)\n",
    "            input_vector.append(valor_atual)\n",
    "\n",
    "            #Predicting the next value\n",
    "            y_pred_py = rls_filter.filter(input_vector)\n",
    "            Y_py.append(y_pred_py)\n",
    "\n",
    "            # Creating virtual inputs\n",
    "            virtual_input = input_vector[1:]\n",
    "            virtual_input.append(y_pred_py)\n",
    "\n",
    "            # Creating virtual filter\n",
    "            w_virtual = []\n",
    "            for x in rls_filter.w:\n",
    "                w_virtual.append(x)\n",
    "            virtual_filter = RLSFilter(n = filter_order, mu = wandb.config.Forgetting, delta=wandb.config.Regularization, w=w_virtual) #Defining the filter instance\n",
    "            virtual_filter.update(y_pred_py, np.array(input_vector))\n",
    "\n",
    "\n",
    "            for l in range(1, forecasting):\n",
    "                #Predicting the next value\n",
    "                y_pred_virtual = virtual_filter.filter(virtual_input)\n",
    "                virtual_filter.update(y_pred_virtual, np.array(virtual_input))\n",
    "                Y_v.append(y_pred_virtual)\n",
    "\n",
    "                virtual_input = virtual_input[1:]\n",
    "                virtual_input.append(y_pred_virtual)\n",
    "            \n",
    "            # Second stage\n",
    "            if (flag == 1):\n",
    "                valor_atual = y_pred_py\n",
    "\n",
    "            if(correction == True and outlier_count == N_outlier_max + 1):\n",
    "                outlier_count = 0\n",
    "                valor_atual = i\n",
    "            DB.append(valor_atual)\n",
    "\n",
    "            #Updating previous values vector\n",
    "            X_ant = input_vector\n",
    "\n",
    "        # get co2 emissions from tracker\n",
    "        # \"CO2 emission (in Kg)\"\n",
    "        emissions = tracker.stop()\n",
    "        # energy unit is kWh\n",
    "        run.summary[\"Energy_Consumed\"] = tracker.final_emissions_data.energy_consumed\n",
    "        #run.summary[\"Energy_RAM\"] = tracker.final_emissions_data.ram_energy\n",
    "        #run.summary[\"Energy_GPU\"] = tracker.final_emissions_data.gpu_energy\n",
    "        #run.summary[\"Energy_CPU\"] = tracker.final_emissions_data.cpu_energy\n",
    "        # kg\n",
    "        #run.summary[\"CO2_Emissions\"] = tracker.final_emissions_data.emissions\n",
    "\n",
    "        df_test['flag_py'] = FLAG\n",
    "        df_test['save_py'] = DB\n",
    "        df_test['ya_pred_py'] = Ya_py\n",
    "        df_test['y_pred_py'] = Y_py\n",
    "\n",
    "        ### Creating the forecasting dataframe:\n",
    "        Y_v = np.array(Y_v).reshape(len(df_test),(forecasting-1))\n",
    "\n",
    "        df_y_forecasting_columns = []\n",
    "        for i in range(1, forecasting+1):\n",
    "            df_y_forecasting_columns.append('y(t+' + str(i) + ')')\n",
    "\n",
    "        df_Y_v = pd.DataFrame(data=Y_v)\n",
    "        df_Y_v.insert(loc=0, column=df_y_forecasting_columns[0], value=Y_py, allow_duplicates=True)\n",
    "        df_Y_v.set_axis(df_y_forecasting_columns, axis=1, inplace=True)\n",
    "\n",
    "        numberOfOutliersPython = df_test['flag_py'].sum()\n",
    "        outliersIndexPython = find_indices(df_test['flag_py'], 1)\n",
    "\n",
    "        # TEDA Metrics:\n",
    "        f1 = f1_score(df_test['label'], df_test['flag_py'])\n",
    "        accuracy = accuracy_score(df_test['label'], df_test['flag_py'])\n",
    "        recall = recall_score(df_test['label'], df_test['flag_py'])\n",
    "        # Logging\n",
    "        run.summary['f1_score'] = f1\n",
    "        wandb.log({\"f1_score\": f1})\n",
    "        run.summary['accuracy'] = accuracy\n",
    "        wandb.log({\"accuracy\": accuracy})\n",
    "        run.summary['recall'] = recall\n",
    "        wandb.log({\"recall\": recall})\n",
    "\n",
    "\n",
    "        # Forecasting\n",
    "        RMSE = []\n",
    "        for i in range(0, forecasting):\n",
    "            rmse = mean_squared_error(y_test[0:-1, i], df_Y_v.iloc[1:, i].values, squared=False)\n",
    "            RMSE.append(rmse)\n",
    "        rmse_pred = mean_squared_error(y_test[0:-1, 0], df_Y_v.iloc[1:, 0].values, squared=False)\n",
    "        RMSE_full.append(RMSE)\n",
    "        RMSE_mean = np.mean(RMSE)\n",
    "        RMSE_max = np.max(RMSE)\n",
    "        RMSE_min = np.min(RMSE)\n",
    "        RMSE_std = np.std(RMSE)\n",
    "\n",
    "        # Logging\n",
    "        # RMSE\n",
    "        ## Pred\n",
    "        run.summary['rmse_pred'] = rmse_pred\n",
    "        wandb.log({\"rmse_pred\": rmse_pred})\n",
    "        ## Mean\n",
    "        run.summary['rmse_mean'] = RMSE_mean\n",
    "        wandb.log({\"rmse_mean\": RMSE_mean})\n",
    "        ## Max     \n",
    "        run.summary['rmse_max'] = RMSE_max\n",
    "        wandb.log({\"rmse_max\": RMSE_max})\n",
    "        ## Min\n",
    "        run.summary['rmse_min'] = RMSE_min\n",
    "        wandb.log({\"rmse_min\": RMSE_min})\n",
    "        ## Std\n",
    "        #run.summary['rmse_std'] = RMSE_std\n",
    "        #wandb.log({\"rmse_std\": RMSE_std})\n",
    "\n",
    "        MAE = []\n",
    "        for i in range(0, forecasting):\n",
    "            mae = mean_absolute_error(y_test[0:-1, i], df_Y_v.iloc[1:, i].values)\n",
    "            MAE.append(mae)\n",
    "        mae_pred = mean_absolute_error(y_test[0:-1, 0], df_Y_v.iloc[1:, 0].values)\n",
    "        MAE_full.append(MAE)\n",
    "        MAE_mean = np.mean(MAE)\n",
    "        MAE_max = np.max(MAE)\n",
    "        MAE_min = np.min(MAE)\n",
    "        MAE_std = np.std(MAE)\n",
    "\n",
    "        # Logging\n",
    "        # MAE\n",
    "        ## Pred\n",
    "        run.summary['mae_pred'] = mae_pred\n",
    "        wandb.log({\"mae_pred\": mae_pred})\n",
    "        ## Mean\n",
    "        run.summary['mae_mean'] = MAE_mean\n",
    "        wandb.log({\"mae_mean\": MAE_mean})\n",
    "        ## Max     \n",
    "        run.summary['mae_max'] = MAE_max\n",
    "        wandb.log({\"mae_max\": MAE_max})\n",
    "        ## Min\n",
    "        run.summary['mae_min'] = MAE_min\n",
    "        wandb.log({\"mae_min\": MAE_min})\n",
    "        ## Std\n",
    "        #run.summary['mae_std'] = MAE_std\n",
    "        #wandb.log({\"mae_std\": MAE_std})\n",
    "    #run.finish()\n"
   ]
  },
  {
   "cell_type": "code",
   "execution_count": null,
   "metadata": {},
   "outputs": [],
   "source": [
    "wandb.agent(sweep_id, train)"
   ]
  },
  {
   "cell_type": "markdown",
   "metadata": {},
   "source": [
    "# 4. Sweep Analysis"
   ]
  },
  {
   "cell_type": "markdown",
   "metadata": {},
   "source": [
    "## 4.1 Visualization"
   ]
  },
  {
   "cell_type": "markdown",
   "metadata": {},
   "source": [
    "Here, we can visualize the Sweep Results 👀. We have use the **Parallel Coordinates Plot 🔀** to map hyperparameter values to model metrics.\n",
    "We've used to see the combinations of hyperparameters that led to the **best model performance 📊**:\n",
    "\n",
    "\n",
    "#### Sweep Eletric Production Data\n",
    "\n",
    "![Sweep Power Data](sweeps/teda_forecasting_sweep_figure.png)"
   ]
  },
  {
   "cell_type": "markdown",
   "metadata": {},
   "source": [
    "#### Now, we are going to look the model results:"
   ]
  },
  {
   "cell_type": "code",
   "execution_count": 2,
   "metadata": {},
   "outputs": [],
   "source": [
    "df_sweep = pd.read_csv(\"sweeps/teda_forecasting_sweep_table.csv\")"
   ]
  },
  {
   "cell_type": "markdown",
   "metadata": {},
   "source": [
    "## 4.2 TEDA Metrics"
   ]
  },
  {
   "cell_type": "markdown",
   "metadata": {},
   "source": [
    "#### To analyze TEDA, we must evaluate the classification metrics (accuracy, f1 score, and recall) for each sensitivity threshold of the algorithm."
   ]
  },
  {
   "cell_type": "markdown",
   "metadata": {},
   "source": [
    "#### Accuracy:"
   ]
  },
  {
   "cell_type": "code",
   "execution_count": 3,
   "metadata": {},
   "outputs": [],
   "source": [
    "min_acc_1_2 = df_sweep[df_sweep['Threshold']==1.2].min()['accuracy']\n",
    "min_acc_2 = df_sweep[df_sweep['Threshold']==2].min()['accuracy']\n",
    "min_acc_2_5 = df_sweep[df_sweep['Threshold']==2.5].min()['accuracy']"
   ]
  },
  {
   "cell_type": "markdown",
   "metadata": {},
   "source": [
    "#### *f1* score"
   ]
  },
  {
   "cell_type": "code",
   "execution_count": 4,
   "metadata": {},
   "outputs": [],
   "source": [
    "min_f1score_1_2 = df_sweep[df_sweep['Threshold']==1.2].min()['f1_score']\n",
    "min_f1score_2 = df_sweep[df_sweep['Threshold']==2].min()['f1_score']\n",
    "min_f1score_2_5 = df_sweep[df_sweep['Threshold']==2.5].min()['f1_score']"
   ]
  },
  {
   "cell_type": "markdown",
   "metadata": {},
   "source": [
    "#### Recall:"
   ]
  },
  {
   "cell_type": "code",
   "execution_count": 5,
   "metadata": {},
   "outputs": [],
   "source": [
    "min_recall_1_2 = df_sweep[df_sweep['Threshold']==1.2].min()['recall']\n",
    "min_recall_2 = df_sweep[df_sweep['Threshold']==2].min()['recall']\n",
    "min_recall_2_5 = df_sweep[df_sweep['Threshold']==2.5].min()['recall']"
   ]
  },
  {
   "cell_type": "code",
   "execution_count": 6,
   "metadata": {},
   "outputs": [
    {
     "data": {
      "text/html": [
       "<div>\n",
       "<style scoped>\n",
       "    .dataframe tbody tr th:only-of-type {\n",
       "        vertical-align: middle;\n",
       "    }\n",
       "\n",
       "    .dataframe tbody tr th {\n",
       "        vertical-align: top;\n",
       "    }\n",
       "\n",
       "    .dataframe thead th {\n",
       "        text-align: right;\n",
       "    }\n",
       "</style>\n",
       "<table border=\"1\" class=\"dataframe\">\n",
       "  <thead>\n",
       "    <tr style=\"text-align: right;\">\n",
       "      <th></th>\n",
       "      <th>Threshold</th>\n",
       "      <th>Accuracy</th>\n",
       "      <th>Recall</th>\n",
       "      <th>f1 score</th>\n",
       "    </tr>\n",
       "  </thead>\n",
       "  <tbody>\n",
       "    <tr>\n",
       "      <th>0</th>\n",
       "      <td>1.2</td>\n",
       "      <td>0.897436</td>\n",
       "      <td>1.000000</td>\n",
       "      <td>0.636364</td>\n",
       "    </tr>\n",
       "    <tr>\n",
       "      <th>1</th>\n",
       "      <td>2.0</td>\n",
       "      <td>0.974359</td>\n",
       "      <td>0.714286</td>\n",
       "      <td>0.833333</td>\n",
       "    </tr>\n",
       "    <tr>\n",
       "      <th>2</th>\n",
       "      <td>2.5</td>\n",
       "      <td>0.961538</td>\n",
       "      <td>0.571429</td>\n",
       "      <td>0.727273</td>\n",
       "    </tr>\n",
       "  </tbody>\n",
       "</table>\n",
       "</div>"
      ],
      "text/plain": [
       "  Threshold  Accuracy    Recall  f1 score\n",
       "0       1.2  0.897436  1.000000  0.636364\n",
       "1       2.0  0.974359  0.714286  0.833333\n",
       "2       2.5  0.961538  0.571429  0.727273"
      ]
     },
     "execution_count": 6,
     "metadata": {},
     "output_type": "execute_result"
    }
   ],
   "source": [
    "threshold_label = [\"1.2\", \"2.0\", \"2.5\"]\n",
    "results_acc = [min_acc_1_2, min_acc_2, min_acc_2_5]\n",
    "results_f1score = [min_f1score_1_2, min_f1score_2, min_f1score_2_5]\n",
    "results_recall = [min_recall_1_2, min_recall_2, min_recall_2_5]\n",
    "df_teda_results = pd.DataFrame(data={\"Threshold\": threshold_label, \"Accuracy\": results_acc, \"Recall\": results_recall, \"f1 score\": results_f1score})\n",
    "df_teda_results.head()"
   ]
  },
  {
   "cell_type": "code",
   "execution_count": 9,
   "metadata": {},
   "outputs": [
    {
     "name": "stderr",
     "output_type": "stream",
     "text": [
      "The PostScript backend does not support transparency; partially transparent artists will be rendered opaque.\n"
     ]
    },
    {
     "data": {
      "image/png": "[encoded data removed]",
      "text/plain": [
       "<Figure size 1152x720 with 1 Axes>"
      ]
     },
     "metadata": {
      "needs_background": "light"
     },
     "output_type": "display_data"
    }
   ],
   "source": [
    "# plot bars or kind='barh' for horizontal bars; adjust figsize accordingly\n",
    "ax = df_teda_results.plot(kind='bar', rot=0, xlabel='Threshold', ylabel='Recall', figsize=(16, 10))\n",
    "\n",
    "X_axis = np.arange(len(threshold_label))\n",
    "\n",
    "# add some labels\n",
    "for c in ax.containers:\n",
    "    # set the bar label\n",
    "    ax.bar_label(c, fmt='%.3f', label_type='center',fontsize=12)\n",
    "    \n",
    "# add a little space at the top of the plot for the annotation\n",
    "ax.margins(y=0.1)\n",
    "\n",
    "plt.xticks(X_axis, threshold_label) \n",
    "\n",
    "# move the legend out of the plot\n",
    "ax.legend(fontsize=13)\n",
    "\n",
    "plt.title(\"TEDA Metrics\", fontsize=20)\n",
    "plt.xlabel(\"TEDA Threshold\", fontsize=20)\n",
    "plt.ylabel(\"Value\", fontsize=20)\n",
    "plt.xticks(fontsize=15)\n",
    "plt.yticks(fontsize=15)\n",
    "#plt.show()\n",
    "\n",
    "plt.savefig(\"results_eletric_TEDA_metrics.eps\", dpi=600, bbox_inches='tight')\n",
    "#plt.savefig('', format='png', bbox_inches='tight')"
   ]
  },
  {
   "cell_type": "markdown",
   "metadata": {},
   "source": [
    "## 4.3 Forecasting"
   ]
  },
  {
   "cell_type": "markdown",
   "metadata": {},
   "source": [
    "### 4.3.1 Lower RMSE of the predicted value ($RMSE_{pred}$):"
   ]
  },
  {
   "cell_type": "code",
   "execution_count": 8,
   "metadata": {},
   "outputs": [
    {
     "data": {
      "text/html": [
       "<div>\n",
       "<style scoped>\n",
       "    .dataframe tbody tr th:only-of-type {\n",
       "        vertical-align: middle;\n",
       "    }\n",
       "\n",
       "    .dataframe tbody tr th {\n",
       "        vertical-align: top;\n",
       "    }\n",
       "\n",
       "    .dataframe thead th {\n",
       "        text-align: right;\n",
       "    }\n",
       "</style>\n",
       "<table border=\"1\" class=\"dataframe\">\n",
       "  <thead>\n",
       "    <tr style=\"text-align: right;\">\n",
       "      <th></th>\n",
       "      <th>Name</th>\n",
       "      <th>Threshold</th>\n",
       "      <th>FlagCorrection</th>\n",
       "      <th>N_outlier_max</th>\n",
       "      <th>FilterOrder</th>\n",
       "      <th>Forecasting</th>\n",
       "      <th>Forgetting</th>\n",
       "      <th>Regularization</th>\n",
       "      <th>Energy_Consumed</th>\n",
       "      <th>accuracy</th>\n",
       "      <th>f1_score</th>\n",
       "      <th>recall</th>\n",
       "      <th>mae_pred</th>\n",
       "      <th>mae_max</th>\n",
       "      <th>mae_mean</th>\n",
       "      <th>mae_min</th>\n",
       "      <th>rmse_pred</th>\n",
       "      <th>rmse_max</th>\n",
       "      <th>rmse_mean</th>\n",
       "      <th>rmse_min</th>\n",
       "    </tr>\n",
       "  </thead>\n",
       "  <tbody>\n",
       "    <tr>\n",
       "      <th>221</th>\n",
       "      <td>peach-sweep-757</td>\n",
       "      <td>1.2</td>\n",
       "      <td>True</td>\n",
       "      <td>1</td>\n",
       "      <td>4</td>\n",
       "      <td>4</td>\n",
       "      <td>0.95</td>\n",
       "      <td>0.1</td>\n",
       "      <td>4.679354e-08</td>\n",
       "      <td>0.910256</td>\n",
       "      <td>0.666667</td>\n",
       "      <td>1.0</td>\n",
       "      <td>5.308628</td>\n",
       "      <td>23.420714</td>\n",
       "      <td>16.63656</td>\n",
       "      <td>5.308628</td>\n",
       "      <td>15.571152</td>\n",
       "      <td>32.071617</td>\n",
       "      <td>26.116015</td>\n",
       "      <td>15.571152</td>\n",
       "    </tr>\n",
       "  </tbody>\n",
       "</table>\n",
       "</div>"
      ],
      "text/plain": [
       "                Name  Threshold  FlagCorrection  N_outlier_max  FilterOrder  \\\n",
       "221  peach-sweep-757        1.2            True              1            4   \n",
       "\n",
       "     Forecasting  Forgetting  Regularization  Energy_Consumed  accuracy  \\\n",
       "221            4        0.95             0.1     4.679354e-08  0.910256   \n",
       "\n",
       "     f1_score  recall  mae_pred    mae_max  mae_mean   mae_min  rmse_pred  \\\n",
       "221  0.666667     1.0  5.308628  23.420714  16.63656  5.308628  15.571152   \n",
       "\n",
       "      rmse_max  rmse_mean   rmse_min  \n",
       "221  32.071617  26.116015  15.571152  "
      ]
     },
     "execution_count": 8,
     "metadata": {},
     "output_type": "execute_result"
    }
   ],
   "source": [
    "df_sweep[df_sweep['rmse_pred']==df_sweep['rmse_pred'].min()]"
   ]
  },
  {
   "cell_type": "markdown",
   "metadata": {},
   "source": [
    "### 4.3.2 Lower MAE of the predicted value ($MAE_{pred}$):"
   ]
  },
  {
   "cell_type": "code",
   "execution_count": 9,
   "metadata": {},
   "outputs": [
    {
     "data": {
      "text/html": [
       "<div>\n",
       "<style scoped>\n",
       "    .dataframe tbody tr th:only-of-type {\n",
       "        vertical-align: middle;\n",
       "    }\n",
       "\n",
       "    .dataframe tbody tr th {\n",
       "        vertical-align: top;\n",
       "    }\n",
       "\n",
       "    .dataframe thead th {\n",
       "        text-align: right;\n",
       "    }\n",
       "</style>\n",
       "<table border=\"1\" class=\"dataframe\">\n",
       "  <thead>\n",
       "    <tr style=\"text-align: right;\">\n",
       "      <th></th>\n",
       "      <th>Name</th>\n",
       "      <th>Threshold</th>\n",
       "      <th>FlagCorrection</th>\n",
       "      <th>N_outlier_max</th>\n",
       "      <th>FilterOrder</th>\n",
       "      <th>Forecasting</th>\n",
       "      <th>Forgetting</th>\n",
       "      <th>Regularization</th>\n",
       "      <th>Energy_Consumed</th>\n",
       "      <th>accuracy</th>\n",
       "      <th>f1_score</th>\n",
       "      <th>recall</th>\n",
       "      <th>mae_pred</th>\n",
       "      <th>mae_max</th>\n",
       "      <th>mae_mean</th>\n",
       "      <th>mae_min</th>\n",
       "      <th>rmse_pred</th>\n",
       "      <th>rmse_max</th>\n",
       "      <th>rmse_mean</th>\n",
       "      <th>rmse_min</th>\n",
       "    </tr>\n",
       "  </thead>\n",
       "  <tbody>\n",
       "    <tr>\n",
       "      <th>649</th>\n",
       "      <td>robust-sweep-162</td>\n",
       "      <td>2.5</td>\n",
       "      <td>True</td>\n",
       "      <td>3</td>\n",
       "      <td>2</td>\n",
       "      <td>4</td>\n",
       "      <td>1.0</td>\n",
       "      <td>1.0</td>\n",
       "      <td>4.293444e-08</td>\n",
       "      <td>0.961538</td>\n",
       "      <td>0.727273</td>\n",
       "      <td>0.571429</td>\n",
       "      <td>4.354563</td>\n",
       "      <td>22.434481</td>\n",
       "      <td>14.991766</td>\n",
       "      <td>4.354563</td>\n",
       "      <td>18.203841</td>\n",
       "      <td>29.823002</td>\n",
       "      <td>24.201453</td>\n",
       "      <td>18.203841</td>\n",
       "    </tr>\n",
       "    <tr>\n",
       "      <th>737</th>\n",
       "      <td>royal-sweep-150</td>\n",
       "      <td>2.5</td>\n",
       "      <td>True</td>\n",
       "      <td>1</td>\n",
       "      <td>2</td>\n",
       "      <td>4</td>\n",
       "      <td>1.0</td>\n",
       "      <td>1.0</td>\n",
       "      <td>4.288938e-08</td>\n",
       "      <td>0.961538</td>\n",
       "      <td>0.727273</td>\n",
       "      <td>0.571429</td>\n",
       "      <td>4.354563</td>\n",
       "      <td>22.434481</td>\n",
       "      <td>14.991766</td>\n",
       "      <td>4.354563</td>\n",
       "      <td>18.203841</td>\n",
       "      <td>29.823002</td>\n",
       "      <td>24.201453</td>\n",
       "      <td>18.203841</td>\n",
       "    </tr>\n",
       "    <tr>\n",
       "      <th>749</th>\n",
       "      <td>astral-sweep-324</td>\n",
       "      <td>2.5</td>\n",
       "      <td>False</td>\n",
       "      <td>3</td>\n",
       "      <td>2</td>\n",
       "      <td>4</td>\n",
       "      <td>1.0</td>\n",
       "      <td>1.0</td>\n",
       "      <td>4.505187e-08</td>\n",
       "      <td>0.961538</td>\n",
       "      <td>0.727273</td>\n",
       "      <td>0.571429</td>\n",
       "      <td>4.354563</td>\n",
       "      <td>22.434481</td>\n",
       "      <td>14.991766</td>\n",
       "      <td>4.354563</td>\n",
       "      <td>18.203841</td>\n",
       "      <td>29.823002</td>\n",
       "      <td>24.201453</td>\n",
       "      <td>18.203841</td>\n",
       "    </tr>\n",
       "    <tr>\n",
       "      <th>808</th>\n",
       "      <td>ancient-sweep-318</td>\n",
       "      <td>2.5</td>\n",
       "      <td>False</td>\n",
       "      <td>2</td>\n",
       "      <td>2</td>\n",
       "      <td>4</td>\n",
       "      <td>1.0</td>\n",
       "      <td>1.0</td>\n",
       "      <td>4.767307e-08</td>\n",
       "      <td>0.961538</td>\n",
       "      <td>0.727273</td>\n",
       "      <td>0.571429</td>\n",
       "      <td>4.354563</td>\n",
       "      <td>22.434481</td>\n",
       "      <td>14.991766</td>\n",
       "      <td>4.354563</td>\n",
       "      <td>18.203841</td>\n",
       "      <td>29.823002</td>\n",
       "      <td>24.201453</td>\n",
       "      <td>18.203841</td>\n",
       "    </tr>\n",
       "    <tr>\n",
       "      <th>929</th>\n",
       "      <td>misty-sweep-312</td>\n",
       "      <td>2.5</td>\n",
       "      <td>False</td>\n",
       "      <td>1</td>\n",
       "      <td>2</td>\n",
       "      <td>4</td>\n",
       "      <td>1.0</td>\n",
       "      <td>1.0</td>\n",
       "      <td>4.024975e-08</td>\n",
       "      <td>0.961538</td>\n",
       "      <td>0.727273</td>\n",
       "      <td>0.571429</td>\n",
       "      <td>4.354563</td>\n",
       "      <td>22.434481</td>\n",
       "      <td>14.991766</td>\n",
       "      <td>4.354563</td>\n",
       "      <td>18.203841</td>\n",
       "      <td>29.823002</td>\n",
       "      <td>24.201453</td>\n",
       "      <td>18.203841</td>\n",
       "    </tr>\n",
       "    <tr>\n",
       "      <th>969</th>\n",
       "      <td>fluent-sweep-156</td>\n",
       "      <td>2.5</td>\n",
       "      <td>True</td>\n",
       "      <td>2</td>\n",
       "      <td>2</td>\n",
       "      <td>4</td>\n",
       "      <td>1.0</td>\n",
       "      <td>1.0</td>\n",
       "      <td>4.301532e-08</td>\n",
       "      <td>0.961538</td>\n",
       "      <td>0.727273</td>\n",
       "      <td>0.571429</td>\n",
       "      <td>4.354563</td>\n",
       "      <td>22.434481</td>\n",
       "      <td>14.991766</td>\n",
       "      <td>4.354563</td>\n",
       "      <td>18.203841</td>\n",
       "      <td>29.823002</td>\n",
       "      <td>24.201453</td>\n",
       "      <td>18.203841</td>\n",
       "    </tr>\n",
       "  </tbody>\n",
       "</table>\n",
       "</div>"
      ],
      "text/plain": [
       "                  Name  Threshold  FlagCorrection  N_outlier_max  FilterOrder  \\\n",
       "649   robust-sweep-162        2.5            True              3            2   \n",
       "737    royal-sweep-150        2.5            True              1            2   \n",
       "749   astral-sweep-324        2.5           False              3            2   \n",
       "808  ancient-sweep-318        2.5           False              2            2   \n",
       "929    misty-sweep-312        2.5           False              1            2   \n",
       "969   fluent-sweep-156        2.5            True              2            2   \n",
       "\n",
       "     Forecasting  Forgetting  Regularization  Energy_Consumed  accuracy  \\\n",
       "649            4         1.0             1.0     4.293444e-08  0.961538   \n",
       "737            4         1.0             1.0     4.288938e-08  0.961538   \n",
       "749            4         1.0             1.0     4.505187e-08  0.961538   \n",
       "808            4         1.0             1.0     4.767307e-08  0.961538   \n",
       "929            4         1.0             1.0     4.024975e-08  0.961538   \n",
       "969            4         1.0             1.0     4.301532e-08  0.961538   \n",
       "\n",
       "     f1_score    recall  mae_pred    mae_max   mae_mean   mae_min  rmse_pred  \\\n",
       "649  0.727273  0.571429  4.354563  22.434481  14.991766  4.354563  18.203841   \n",
       "737  0.727273  0.571429  4.354563  22.434481  14.991766  4.354563  18.203841   \n",
       "749  0.727273  0.571429  4.354563  22.434481  14.991766  4.354563  18.203841   \n",
       "808  0.727273  0.571429  4.354563  22.434481  14.991766  4.354563  18.203841   \n",
       "929  0.727273  0.571429  4.354563  22.434481  14.991766  4.354563  18.203841   \n",
       "969  0.727273  0.571429  4.354563  22.434481  14.991766  4.354563  18.203841   \n",
       "\n",
       "      rmse_max  rmse_mean   rmse_min  \n",
       "649  29.823002  24.201453  18.203841  \n",
       "737  29.823002  24.201453  18.203841  \n",
       "749  29.823002  24.201453  18.203841  \n",
       "808  29.823002  24.201453  18.203841  \n",
       "929  29.823002  24.201453  18.203841  \n",
       "969  29.823002  24.201453  18.203841  "
      ]
     },
     "execution_count": 9,
     "metadata": {},
     "output_type": "execute_result"
    }
   ],
   "source": [
    "df_sweep[df_sweep['mae_pred']==df_sweep['mae_pred'].min()]"
   ]
  },
  {
   "cell_type": "markdown",
   "metadata": {},
   "source": [
    "# 5. References\n",
    "\n",
    " [[1]](https://www.mdpi.com/1424-8220/22/10/3838) **Andrade, P.**; Silva, I.; Silva, M.; Flores, T.; Cassiano, J.; Costa, D.G. *A TinyML Soft-Sensor Approach for Low-Cost Detection and Monitoring of Vehicular Emissions*. SENSORS 2022, 22, 3838.  ![GitHub](https://img.shields.io/badge/DOI-10.3390%2Fs22103838-green)\n",
    "\n",
    "\n",
    "[[2]](https://dl.acm.org/journal/tecs) **Andrade, P.**; Silva, I.; Silva, M.; Flores, T.; Costa, D.G. Soares, E.; _Online Processing of Vehicular Data on the Edge Through an Unsupervised TinyML Regression Technique_. ACM TECS 2023. ![GitHub](https://img.shields.io/badge/DOI-10.1145%2Fs3591356-green)"
   ]
  },
  {
   "cell_type": "markdown",
   "metadata": {},
   "source": []
  }
 ],
 "metadata": {
  "colab": {
   "authorship_tag": "ABX9TyNLZCZpHdSXWy2xeKwk3pD0",
   "collapsed_sections": [],
   "name": "TesteFree_CO2.ipynb",
   "provenance": [],
   "toc_visible": true
  },
  "kernelspec": {
   "display_name": "Python 3.8.5 ('base')",
   "language": "python",
   "name": "python3"
  },
  "language_info": {
   "codemirror_mode": {
    "name": "ipython",
    "version": 3
   },
   "file_extension": ".py",
   "mimetype": "text/x-python",
   "name": "python",
   "nbconvert_exporter": "python",
   "pygments_lexer": "ipython3",
   "version": "3.8.5"
  },
  "vscode": {
   "interpreter": {
    "hash": "33bea494317c8c22a4760028ceed23349c4667bf8f6d1305a13b8d31b6e7f27d"
   }
  }
 },
 "nbformat": 4,
 "nbformat_minor": 1
}
