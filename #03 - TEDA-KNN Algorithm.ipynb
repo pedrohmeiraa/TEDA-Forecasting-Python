{
 "cells": [
  {
   "cell_type": "markdown",
   "metadata": {
    "colab_type": "text",
    "id": "ofwtcgvWTtOW"
   },
   "source": [
    "# #03 - TEDA-KNN Algorithm"
   ]
  },
  {
   "cell_type": "markdown",
   "metadata": {
    "colab_type": "text",
    "id": "kPHjZ4iMUCjh"
   },
   "source": [
    "## 1. Modules import"
   ]
  },
  {
   "cell_type": "code",
   "execution_count": 1,
   "metadata": {
    "colab": {
     "base_uri": "https://localhost:8080/",
     "height": 71
    },
    "colab_type": "code",
    "executionInfo": {
     "elapsed": 3043,
     "status": "ok",
     "timestamp": 1594664992056,
     "user": {
      "displayName": "PEDRO ANDRADE",
      "photoUrl": "https://lh3.googleusercontent.com/a-/AOh14Gg7rX8Ay3ygspOgL2OSlmHq-_pe_-2BIgJmuTv5=s64",
      "userId": "01424737486386709382"
     },
     "user_tz": 180
    },
    "id": "kc6XdrfD9hd5",
    "outputId": "ffd7e1ee-f1d5-42a6-d770-a5e69e5d754c"
   },
   "outputs": [],
   "source": [
    "import numpy as np\n",
    "import pandas as pd\n",
    "import matplotlib.pyplot as plt\n",
    "import seaborn as sns\n",
    "import plotly.graph_objects as go\n",
    "from plotly.subplots import make_subplots\n",
    "import plotly.express as px\n",
    "from random import randint, sample\n",
    "\n",
    "from sklearn.metrics import classification_report, confusion_matrix, f1_score, accuracy_score, recall_score\n",
    "from sklearn.metrics import mean_squared_error, mean_absolute_error"
   ]
  },
  {
   "cell_type": "markdown",
   "metadata": {},
   "source": [
    "#### Importing knn"
   ]
  },
  {
   "cell_type": "code",
   "execution_count": 2,
   "metadata": {},
   "outputs": [],
   "source": [
    "from sklearn import neighbors"
   ]
  },
  {
   "cell_type": "markdown",
   "metadata": {},
   "source": [
    "#### Importing our modules:"
   ]
  },
  {
   "cell_type": "code",
   "execution_count": 3,
   "metadata": {
    "colab": {},
    "colab_type": "code",
    "id": "0XA-n1vBrxG3"
   },
   "outputs": [],
   "source": [
    "from teda import TEDA\n",
    "from treating import dataTreating, dataSpliting, dataProcessing, dataSplit"
   ]
  },
  {
   "cell_type": "code",
   "execution_count": 4,
   "metadata": {},
   "outputs": [],
   "source": [
    "def find_indices(list_to_check, item_to_find):\n",
    "    indices = []\n",
    "    for idx, value in enumerate(list_to_check):\n",
    "        if value == item_to_find:\n",
    "            indices.append(idx)\n",
    "    return indices"
   ]
  },
  {
   "cell_type": "markdown",
   "metadata": {
    "colab_type": "text",
    "id": "s2f127LXUJQ5"
   },
   "source": [
    "## 2. Data managing"
   ]
  },
  {
   "cell_type": "markdown",
   "metadata": {},
   "source": [
    "### 2.1 Power data:"
   ]
  },
  {
   "cell_type": "code",
   "execution_count": 5,
   "metadata": {},
   "outputs": [
    {
     "data": {
      "text/html": [
       "<div>\n",
       "<style scoped>\n",
       "    .dataframe tbody tr th:only-of-type {\n",
       "        vertical-align: middle;\n",
       "    }\n",
       "\n",
       "    .dataframe tbody tr th {\n",
       "        vertical-align: top;\n",
       "    }\n",
       "\n",
       "    .dataframe thead th {\n",
       "        text-align: right;\n",
       "    }\n",
       "</style>\n",
       "<table border=\"1\" class=\"dataframe\">\n",
       "  <thead>\n",
       "    <tr style=\"text-align: right;\">\n",
       "      <th></th>\n",
       "      <th>Date</th>\n",
       "      <th>Production</th>\n",
       "    </tr>\n",
       "  </thead>\n",
       "  <tbody>\n",
       "    <tr>\n",
       "      <th>0</th>\n",
       "      <td>1/1/1985</td>\n",
       "      <td>72.5052</td>\n",
       "    </tr>\n",
       "    <tr>\n",
       "      <th>1</th>\n",
       "      <td>2/1/1985</td>\n",
       "      <td>70.6720</td>\n",
       "    </tr>\n",
       "    <tr>\n",
       "      <th>2</th>\n",
       "      <td>3/1/1985</td>\n",
       "      <td>62.4502</td>\n",
       "    </tr>\n",
       "    <tr>\n",
       "      <th>3</th>\n",
       "      <td>4/1/1985</td>\n",
       "      <td>57.4714</td>\n",
       "    </tr>\n",
       "    <tr>\n",
       "      <th>4</th>\n",
       "      <td>5/1/1985</td>\n",
       "      <td>55.3151</td>\n",
       "    </tr>\n",
       "  </tbody>\n",
       "</table>\n",
       "</div>"
      ],
      "text/plain": [
       "       Date  Production\n",
       "0  1/1/1985     72.5052\n",
       "1  2/1/1985     70.6720\n",
       "2  3/1/1985     62.4502\n",
       "3  4/1/1985     57.4714\n",
       "4  5/1/1985     55.3151"
      ]
     },
     "execution_count": 5,
     "metadata": {},
     "output_type": "execute_result"
    }
   ],
   "source": [
    "data = pd.read_csv(\"Electric_Production.csv\")\n",
    "data.rename(columns={'DATE':'Date', 'IPG2211A2N':'Production'}, inplace=True)\n",
    "data.head()"
   ]
  },
  {
   "cell_type": "code",
   "execution_count": 6,
   "metadata": {},
   "outputs": [],
   "source": [
    "series = \"Production\"\n",
    "date = \"Date\""
   ]
  },
  {
   "cell_type": "markdown",
   "metadata": {},
   "source": [
    "### 2.2 Inserting outliers:"
   ]
  },
  {
   "cell_type": "code",
   "execution_count": 7,
   "metadata": {},
   "outputs": [],
   "source": [
    "data['label'] = 0"
   ]
  },
  {
   "cell_type": "code",
   "execution_count": 8,
   "metadata": {},
   "outputs": [],
   "source": [
    "outliers_percentage = 8/100\n",
    "\n",
    "#Outliers do tipo zero\n",
    "#z = o[0:np.round(len(o)/2).astype(int)]\n",
    "z = [61,37,287,230,214,162,98,30,278,28,25,314,348,195,113,387]\n",
    "\n",
    "#Outliers do tipo pico\n",
    "#p = o[np.round(len(o)/2).astype(int): -1]\n",
    "p = [125,242,291,377,34,206,249,118,389,12,376,375,74,146,272,368]"
   ]
  },
  {
   "cell_type": "markdown",
   "metadata": {},
   "source": [
    "#### Peak-type outliers will have **twice** the magnitude. Therefore:"
   ]
  },
  {
   "cell_type": "code",
   "execution_count": 9,
   "metadata": {},
   "outputs": [
    {
     "name": "stderr",
     "output_type": "stream",
     "text": [
      "c:\\Users\\Samsung\\anaconda3\\lib\\site-packages\\pandas\\core\\indexing.py:670: SettingWithCopyWarning: \n",
      "A value is trying to be set on a copy of a slice from a DataFrame\n",
      "\n",
      "See the caveats in the documentation: https://pandas.pydata.org/pandas-docs/stable/user_guide/indexing.html#returning-a-view-versus-a-copy\n",
      "  iloc._setitem_with_indexer(indexer, value)\n"
     ]
    }
   ],
   "source": [
    "data['Outlier'] = data[series]\n",
    "\n",
    "data['Outlier'].iloc[p] = 1.5*data[series].iloc[p]\n",
    "data['label'].iloc[p] = 1"
   ]
  },
  {
   "cell_type": "markdown",
   "metadata": {},
   "source": [
    "#### Zero-type outliers has value equals **zero**:"
   ]
  },
  {
   "cell_type": "code",
   "execution_count": 10,
   "metadata": {},
   "outputs": [],
   "source": [
    "data['Outlier'].iloc[z] = 0\n",
    "data['label'].iloc[z] = 1"
   ]
  },
  {
   "cell_type": "markdown",
   "metadata": {},
   "source": [
    "### Let's see the new curve:"
   ]
  },
  {
   "cell_type": "code",
   "execution_count": 11,
   "metadata": {},
   "outputs": [
    {
     "data": {
      "application/vnd.plotly.v1+json": {
       "config": {
        "plotlyServerURL": "https://plot.ly"
       },
       "data": [
        {
         "name": "Without Outliers",
         "type": "scatter",
         "xaxis": "x",
         "y": [
          72.5052,
          70.672,
          62.4502,
          57.4714,
          55.3151,
          58.0904,
          62.6202,
          63.2485,
          60.5846,
          56.3154,
          58.0005,
          68.7145,
          73.3057,
          67.9869,
          62.2221,
          57.0329,
          55.8137,
          59.9005,
          65.7655,
          64.4816,
          61.0005,
          57.5322,
          59.3417,
          68.1354,
          73.8152,
          70.062,
          65.61,
          60.1586,
          58.8734,
          63.8918,
          68.8694,
          70.0669,
          64.1151,
          60.3789,
          62.4643,
          70.5777,
          79.8703,
          76.1622,
          70.2928,
          63.2384,
          61.4065,
          67.1097,
          72.9816,
          75.7655,
          67.5152,
          63.2832,
          65.1078,
          73.8631,
          77.9188,
          76.6822,
          73.3523,
          65.1081,
          63.6892,
          68.4722,
          74.0301,
          75.0448,
          69.3053,
          65.8735,
          69.0706,
          84.1949,
          84.3598,
          77.1726,
          73.1964,
          67.2781,
          65.8218,
          71.4654,
          76.61399999999999,
          77.1052,
          73.061,
          67.4365,
          68.5665,
          77.6839,
          86.0214,
          77.5573,
          73.365,
          67.15,
          68.8162,
          74.8448,
          80.0928,
          79.1606,
          73.5743,
          68.7538,
          72.5166,
          79.4894,
          85.2855,
          80.1643,
          74.5275,
          69.6441,
          67.1784,
          71.2078,
          77.5081,
          76.5374,
          72.3541,
          69.0286,
          73.4992,
          84.5159,
          87.9464,
          84.5561,
          79.4747,
          71.0578,
          67.6762,
          74.3297,
          82.1048,
          82.0605,
          74.6031,
          69.681,
          74.4292,
          84.2284,
          94.1386,
          87.1607,
          79.2456,
          70.9749,
          69.3844,
          77.9831,
          83.277,
          81.8872,
          75.6826,
          71.2661,
          75.2458,
          84.8147,
          92.4532,
          87.4033,
          81.2661,
          73.8167,
          73.2682,
          78.3026,
          85.9841,
          89.5467,
          78.5035,
          73.7066,
          79.6543,
          90.8251,
          98.9732,
          92.8883,
          86.9356,
          77.2214,
          76.6826,
          81.9306,
          85.9606,
          86.5562,
          79.1919,
          74.6891,
          81.074,
          90.4855,
          98.4613,
          89.7795,
          83.0125,
          76.1476,
          73.8471,
          79.7645,
          88.4519,
          87.7828,
          81.9386,
          77.5027,
          82.0448,
          92.101,
          94.792,
          87.82,
          86.5549,
          76.7521,
          78.0303,
          86.4579,
          93.8379,
          93.531,
          87.5414,
          80.0924,
          81.4349,
          91.6841,
          102.1348,
          91.1829,
          90.7381,
          80.5176,
          79.3887,
          87.8431,
          97.4903,
          96.4157,
          87.2248,
          80.6409,
          82.2025,
          94.5113,
          102.2301,
          94.2989,
          88.0927,
          81.4425,
          84.4552,
          91.0406,
          95.9957,
          99.3704,
          90.9178,
          83.1408,
          88.041,
          102.4558,
          109.1081,
          97.1717,
          92.8283,
          82.915,
          82.5465,
          90.3955,
          96.074,
          99.5534,
          88.281,
          82.686,
          82.9319,
          93.0381,
          102.9955,
          95.2075,
          93.2556,
          85.795,
          85.2351,
          93.1896,
          102.39299999999999,
          101.6293,
          93.3089,
          86.9002,
          88.5749,
          100.8003,
          110.1807,
          103.8413,
          94.5532,
          85.06200000000001,
          85.4653,
          91.0761,
          102.22,
          104.4682,
          92.9135,
          86.5047,
          88.5735,
          103.5428,
          113.7226,
          106.15899999999999,
          95.4029,
          86.7233,
          89.0302,
          95.5045,
          101.7948,
          100.2025,
          94.024,
          87.5262,
          89.6144,
          105.7263,
          111.1614,
          101.7795,
          98.9565,
          86.4776,
          87.2234,
          99.5076,
          108.3501,
          109.4862,
          99.1155,
          89.7567,
          90.4587,
          108.2257,
          104.4724,
          101.5196,
          98.4017,
          87.5093,
          90.0222,
          100.5244,
          110.9503,
          111.5192,
          95.7632,
          90.3738,
          92.3566,
          103.066,
          112.0576,
          111.8399,
          99.1925,
          90.8177,
          92.0587,
          100.9676,
          107.5686,
          114.1036,
          101.5316,
          93.0068,
          93.9126,
          106.7528,
          114.8331,
          108.2353,
          100.4386,
          90.9944,
          91.2348,
          103.9581,
          110.7631,
          107.5665,
          97.7183,
          90.9979,
          93.8057,
          109.4221,
          116.8316,
          104.4202,
          97.8529,
          88.1973,
          87.5366,
          97.2387,
          103.9086,
          105.7486,
          94.8823,
          89.2977,
          89.3585,
          110.6844,
          119.0166,
          110.53299999999999,
          98.2672,
          86.3,
          90.8364,
          104.3538,
          112.8066,
          112.9014,
          100.1209,
          88.9251,
          92.775,
          114.3266,
          119.488,
          107.3753,
          99.1028,
          89.3583,
          90.0698,
          102.8204,
          114.7068,
          113.5958,
          99.4712,
          90.3566,
          93.8095,
          107.3312,
          111.9646,
          103.3679,
          93.5772,
          87.5566,
          92.7603,
          101.14,
          113.0357,
          109.8601,
          96.7431,
          90.3805,
          94.3417,
          105.2722,
          115.501,
          106.734,
          102.9948,
          91.0092,
          90.9634,
          100.6957,
          110.148,
          108.1756,
          99.2809,
          91.7871,
          97.2853,
          113.4732,
          124.2549,
          112.8811,
          104.7631,
          90.2867,
          92.134,
          101.87799999999999,
          108.5497,
          108.194,
          100.4172,
          92.3837,
          99.7033,
          109.3477,
          120.2696,
          116.3788,
          104.4706,
          89.7461,
          91.09299999999999,
          102.6495,
          111.6354,
          110.5925,
          101.9204,
          91.5959,
          93.0628,
          103.2203,
          117.0837,
          106.6688,
          95.3548,
          89.3254,
          90.7369,
          104.0375,
          114.5397,
          115.5159,
          102.7637,
          91.4867,
          92.89,
          112.7694,
          114.8505,
          99.4901,
          101.0396,
          88.353,
          92.0805,
          102.1532,
          112.1538,
          108.9312,
          98.6154,
          93.6137,
          97.3359,
          114.7212,
          129.4048
         ],
         "yaxis": "y"
        }
       ],
       "layout": {
        "template": {
         "data": {
          "bar": [
           {
            "error_x": {
             "color": "#2a3f5f"
            },
            "error_y": {
             "color": "#2a3f5f"
            },
            "marker": {
             "line": {
              "color": "#E5ECF6",
              "width": 0.5
             }
            },
            "type": "bar"
           }
          ],
          "barpolar": [
           {
            "marker": {
             "line": {
              "color": "#E5ECF6",
              "width": 0.5
             }
            },
            "type": "barpolar"
           }
          ],
          "carpet": [
           {
            "aaxis": {
             "endlinecolor": "#2a3f5f",
             "gridcolor": "white",
             "linecolor": "white",
             "minorgridcolor": "white",
             "startlinecolor": "#2a3f5f"
            },
            "baxis": {
             "endlinecolor": "#2a3f5f",
             "gridcolor": "white",
             "linecolor": "white",
             "minorgridcolor": "white",
             "startlinecolor": "#2a3f5f"
            },
            "type": "carpet"
           }
          ],
          "choropleth": [
           {
            "colorbar": {
             "outlinewidth": 0,
             "ticks": ""
            },
            "type": "choropleth"
           }
          ],
          "contour": [
           {
            "colorbar": {
             "outlinewidth": 0,
             "ticks": ""
            },
            "colorscale": [
             [
              0,
              "#0d0887"
             ],
             [
              0.1111111111111111,
              "#46039f"
             ],
             [
              0.2222222222222222,
              "#7201a8"
             ],
             [
              0.3333333333333333,
              "#9c179e"
             ],
             [
              0.4444444444444444,
              "#bd3786"
             ],
             [
              0.5555555555555556,
              "#d8576b"
             ],
             [
              0.6666666666666666,
              "#ed7953"
             ],
             [
              0.7777777777777778,
              "#fb9f3a"
             ],
             [
              0.8888888888888888,
              "#fdca26"
             ],
             [
              1,
              "#f0f921"
             ]
            ],
            "type": "contour"
           }
          ],
          "contourcarpet": [
           {
            "colorbar": {
             "outlinewidth": 0,
             "ticks": ""
            },
            "type": "contourcarpet"
           }
          ],
          "heatmap": [
           {
            "colorbar": {
             "outlinewidth": 0,
             "ticks": ""
            },
            "colorscale": [
             [
              0,
              "#0d0887"
             ],
             [
              0.1111111111111111,
              "#46039f"
             ],
             [
              0.2222222222222222,
              "#7201a8"
             ],
             [
              0.3333333333333333,
              "#9c179e"
             ],
             [
              0.4444444444444444,
              "#bd3786"
             ],
             [
              0.5555555555555556,
              "#d8576b"
             ],
             [
              0.6666666666666666,
              "#ed7953"
             ],
             [
              0.7777777777777778,
              "#fb9f3a"
             ],
             [
              0.8888888888888888,
              "#fdca26"
             ],
             [
              1,
              "#f0f921"
             ]
            ],
            "type": "heatmap"
           }
          ],
          "heatmapgl": [
           {
            "colorbar": {
             "outlinewidth": 0,
             "ticks": ""
            },
            "colorscale": [
             [
              0,
              "#0d0887"
             ],
             [
              0.1111111111111111,
              "#46039f"
             ],
             [
              0.2222222222222222,
              "#7201a8"
             ],
             [
              0.3333333333333333,
              "#9c179e"
             ],
             [
              0.4444444444444444,
              "#bd3786"
             ],
             [
              0.5555555555555556,
              "#d8576b"
             ],
             [
              0.6666666666666666,
              "#ed7953"
             ],
             [
              0.7777777777777778,
              "#fb9f3a"
             ],
             [
              0.8888888888888888,
              "#fdca26"
             ],
             [
              1,
              "#f0f921"
             ]
            ],
            "type": "heatmapgl"
           }
          ],
          "histogram": [
           {
            "marker": {
             "colorbar": {
              "outlinewidth": 0,
              "ticks": ""
             }
            },
            "type": "histogram"
           }
          ],
          "histogram2d": [
           {
            "colorbar": {
             "outlinewidth": 0,
             "ticks": ""
            },
            "colorscale": [
             [
              0,
              "#0d0887"
             ],
             [
              0.1111111111111111,
              "#46039f"
             ],
             [
              0.2222222222222222,
              "#7201a8"
             ],
             [
              0.3333333333333333,
              "#9c179e"
             ],
             [
              0.4444444444444444,
              "#bd3786"
             ],
             [
              0.5555555555555556,
              "#d8576b"
             ],
             [
              0.6666666666666666,
              "#ed7953"
             ],
             [
              0.7777777777777778,
              "#fb9f3a"
             ],
             [
              0.8888888888888888,
              "#fdca26"
             ],
             [
              1,
              "#f0f921"
             ]
            ],
            "type": "histogram2d"
           }
          ],
          "histogram2dcontour": [
           {
            "colorbar": {
             "outlinewidth": 0,
             "ticks": ""
            },
            "colorscale": [
             [
              0,
              "#0d0887"
             ],
             [
              0.1111111111111111,
              "#46039f"
             ],
             [
              0.2222222222222222,
              "#7201a8"
             ],
             [
              0.3333333333333333,
              "#9c179e"
             ],
             [
              0.4444444444444444,
              "#bd3786"
             ],
             [
              0.5555555555555556,
              "#d8576b"
             ],
             [
              0.6666666666666666,
              "#ed7953"
             ],
             [
              0.7777777777777778,
              "#fb9f3a"
             ],
             [
              0.8888888888888888,
              "#fdca26"
             ],
             [
              1,
              "#f0f921"
             ]
            ],
            "type": "histogram2dcontour"
           }
          ],
          "mesh3d": [
           {
            "colorbar": {
             "outlinewidth": 0,
             "ticks": ""
            },
            "type": "mesh3d"
           }
          ],
          "parcoords": [
           {
            "line": {
             "colorbar": {
              "outlinewidth": 0,
              "ticks": ""
             }
            },
            "type": "parcoords"
           }
          ],
          "pie": [
           {
            "automargin": true,
            "type": "pie"
           }
          ],
          "scatter": [
           {
            "marker": {
             "colorbar": {
              "outlinewidth": 0,
              "ticks": ""
             }
            },
            "type": "scatter"
           }
          ],
          "scatter3d": [
           {
            "line": {
             "colorbar": {
              "outlinewidth": 0,
              "ticks": ""
             }
            },
            "marker": {
             "colorbar": {
              "outlinewidth": 0,
              "ticks": ""
             }
            },
            "type": "scatter3d"
           }
          ],
          "scattercarpet": [
           {
            "marker": {
             "colorbar": {
              "outlinewidth": 0,
              "ticks": ""
             }
            },
            "type": "scattercarpet"
           }
          ],
          "scattergeo": [
           {
            "marker": {
             "colorbar": {
              "outlinewidth": 0,
              "ticks": ""
             }
            },
            "type": "scattergeo"
           }
          ],
          "scattergl": [
           {
            "marker": {
             "colorbar": {
              "outlinewidth": 0,
              "ticks": ""
             }
            },
            "type": "scattergl"
           }
          ],
          "scattermapbox": [
           {
            "marker": {
             "colorbar": {
              "outlinewidth": 0,
              "ticks": ""
             }
            },
            "type": "scattermapbox"
           }
          ],
          "scatterpolar": [
           {
            "marker": {
             "colorbar": {
              "outlinewidth": 0,
              "ticks": ""
             }
            },
            "type": "scatterpolar"
           }
          ],
          "scatterpolargl": [
           {
            "marker": {
             "colorbar": {
              "outlinewidth": 0,
              "ticks": ""
             }
            },
            "type": "scatterpolargl"
           }
          ],
          "scatterternary": [
           {
            "marker": {
             "colorbar": {
              "outlinewidth": 0,
              "ticks": ""
             }
            },
            "type": "scatterternary"
           }
          ],
          "surface": [
           {
            "colorbar": {
             "outlinewidth": 0,
             "ticks": ""
            },
            "colorscale": [
             [
              0,
              "#0d0887"
             ],
             [
              0.1111111111111111,
              "#46039f"
             ],
             [
              0.2222222222222222,
              "#7201a8"
             ],
             [
              0.3333333333333333,
              "#9c179e"
             ],
             [
              0.4444444444444444,
              "#bd3786"
             ],
             [
              0.5555555555555556,
              "#d8576b"
             ],
             [
              0.6666666666666666,
              "#ed7953"
             ],
             [
              0.7777777777777778,
              "#fb9f3a"
             ],
             [
              0.8888888888888888,
              "#fdca26"
             ],
             [
              1,
              "#f0f921"
             ]
            ],
            "type": "surface"
           }
          ],
          "table": [
           {
            "cells": {
             "fill": {
              "color": "#EBF0F8"
             },
             "line": {
              "color": "white"
             }
            },
            "header": {
             "fill": {
              "color": "#C8D4E3"
             },
             "line": {
              "color": "white"
             }
            },
            "type": "table"
           }
          ]
         },
         "layout": {
          "annotationdefaults": {
           "arrowcolor": "#2a3f5f",
           "arrowhead": 0,
           "arrowwidth": 1
          },
          "autotypenumbers": "strict",
          "coloraxis": {
           "colorbar": {
            "outlinewidth": 0,
            "ticks": ""
           }
          },
          "colorscale": {
           "diverging": [
            [
             0,
             "#8e0152"
            ],
            [
             0.1,
             "#c51b7d"
            ],
            [
             0.2,
             "#de77ae"
            ],
            [
             0.3,
             "#f1b6da"
            ],
            [
             0.4,
             "#fde0ef"
            ],
            [
             0.5,
             "#f7f7f7"
            ],
            [
             0.6,
             "#e6f5d0"
            ],
            [
             0.7,
             "#b8e186"
            ],
            [
             0.8,
             "#7fbc41"
            ],
            [
             0.9,
             "#4d9221"
            ],
            [
             1,
             "#276419"
            ]
           ],
           "sequential": [
            [
             0,
             "#0d0887"
            ],
            [
             0.1111111111111111,
             "#46039f"
            ],
            [
             0.2222222222222222,
             "#7201a8"
            ],
            [
             0.3333333333333333,
             "#9c179e"
            ],
            [
             0.4444444444444444,
             "#bd3786"
            ],
            [
             0.5555555555555556,
             "#d8576b"
            ],
            [
             0.6666666666666666,
             "#ed7953"
            ],
            [
             0.7777777777777778,
             "#fb9f3a"
            ],
            [
             0.8888888888888888,
             "#fdca26"
            ],
            [
             1,
             "#f0f921"
            ]
           ],
           "sequentialminus": [
            [
             0,
             "#0d0887"
            ],
            [
             0.1111111111111111,
             "#46039f"
            ],
            [
             0.2222222222222222,
             "#7201a8"
            ],
            [
             0.3333333333333333,
             "#9c179e"
            ],
            [
             0.4444444444444444,
             "#bd3786"
            ],
            [
             0.5555555555555556,
             "#d8576b"
            ],
            [
             0.6666666666666666,
             "#ed7953"
            ],
            [
             0.7777777777777778,
             "#fb9f3a"
            ],
            [
             0.8888888888888888,
             "#fdca26"
            ],
            [
             1,
             "#f0f921"
            ]
           ]
          },
          "colorway": [
           "#636efa",
           "#EF553B",
           "#00cc96",
           "#ab63fa",
           "#FFA15A",
           "#19d3f3",
           "#FF6692",
           "#B6E880",
           "#FF97FF",
           "#FECB52"
          ],
          "font": {
           "color": "#2a3f5f"
          },
          "geo": {
           "bgcolor": "white",
           "lakecolor": "white",
           "landcolor": "#E5ECF6",
           "showlakes": true,
           "showland": true,
           "subunitcolor": "white"
          },
          "hoverlabel": {
           "align": "left"
          },
          "hovermode": "closest",
          "mapbox": {
           "style": "light"
          },
          "paper_bgcolor": "white",
          "plot_bgcolor": "#E5ECF6",
          "polar": {
           "angularaxis": {
            "gridcolor": "white",
            "linecolor": "white",
            "ticks": ""
           },
           "bgcolor": "#E5ECF6",
           "radialaxis": {
            "gridcolor": "white",
            "linecolor": "white",
            "ticks": ""
           }
          },
          "scene": {
           "xaxis": {
            "backgroundcolor": "#E5ECF6",
            "gridcolor": "white",
            "gridwidth": 2,
            "linecolor": "white",
            "showbackground": true,
            "ticks": "",
            "zerolinecolor": "white"
           },
           "yaxis": {
            "backgroundcolor": "#E5ECF6",
            "gridcolor": "white",
            "gridwidth": 2,
            "linecolor": "white",
            "showbackground": true,
            "ticks": "",
            "zerolinecolor": "white"
           },
           "zaxis": {
            "backgroundcolor": "#E5ECF6",
            "gridcolor": "white",
            "gridwidth": 2,
            "linecolor": "white",
            "showbackground": true,
            "ticks": "",
            "zerolinecolor": "white"
           }
          },
          "shapedefaults": {
           "line": {
            "color": "#2a3f5f"
           }
          },
          "ternary": {
           "aaxis": {
            "gridcolor": "white",
            "linecolor": "white",
            "ticks": ""
           },
           "baxis": {
            "gridcolor": "white",
            "linecolor": "white",
            "ticks": ""
           },
           "bgcolor": "#E5ECF6",
           "caxis": {
            "gridcolor": "white",
            "linecolor": "white",
            "ticks": ""
           }
          },
          "title": {
           "x": 0.05
          },
          "xaxis": {
           "automargin": true,
           "gridcolor": "white",
           "linecolor": "white",
           "ticks": "",
           "title": {
            "standoff": 15
           },
           "zerolinecolor": "white",
           "zerolinewidth": 2
          },
          "yaxis": {
           "automargin": true,
           "gridcolor": "white",
           "linecolor": "white",
           "ticks": "",
           "title": {
            "standoff": 15
           },
           "zerolinecolor": "white",
           "zerolinewidth": 2
          }
         }
        },
        "title": {
         "text": "Dataset"
        },
        "xaxis": {
         "anchor": "y",
         "domain": [
          0,
          0.94
         ],
         "title": {
          "text": "Time (months)"
         }
        },
        "yaxis": {
         "anchor": "x",
         "domain": [
          0,
          1
         ],
         "title": {
          "text": "Eletric Production"
         }
        },
        "yaxis2": {
         "anchor": "x",
         "overlaying": "y",
         "side": "right"
        }
       }
      }
     },
     "metadata": {},
     "output_type": "display_data"
    }
   ],
   "source": [
    "figure = make_subplots(specs=[[{\"secondary_y\": True}]])\n",
    "\n",
    "figure.update_layout(\n",
    "    title=\"Dataset\"\n",
    ")\n",
    "\n",
    "figure.add_trace(\n",
    "    go.Scatter(y=data['Production'], name='Without Outliers'),\n",
    "    secondary_y=False\n",
    ")\n",
    "\n",
    "figure.update_xaxes(title='Time (months)')\n",
    "figure.update_yaxes(title='Eletric Production', secondary_y=False)\n",
    "figure.show()"
   ]
  },
  {
   "cell_type": "code",
   "execution_count": 12,
   "metadata": {},
   "outputs": [
    {
     "data": {
      "application/vnd.plotly.v1+json": {
       "config": {
        "plotlyServerURL": "https://plot.ly"
       },
       "data": [
        {
         "name": "With Outliers",
         "type": "scatter",
         "xaxis": "x",
         "y": [
          72.5052,
          70.672,
          62.4502,
          57.4714,
          55.3151,
          58.0904,
          62.6202,
          63.2485,
          60.5846,
          56.3154,
          58.0005,
          68.7145,
          109.95855,
          67.9869,
          62.2221,
          57.0329,
          55.8137,
          59.9005,
          65.7655,
          64.4816,
          61.0005,
          57.5322,
          59.3417,
          68.1354,
          73.8152,
          0,
          65.61,
          60.1586,
          0,
          63.8918,
          0,
          70.0669,
          64.1151,
          60.3789,
          93.69645,
          70.5777,
          79.8703,
          0,
          70.2928,
          63.2384,
          61.4065,
          67.1097,
          72.9816,
          75.7655,
          67.5152,
          63.2832,
          65.1078,
          73.8631,
          77.9188,
          76.6822,
          73.3523,
          65.1081,
          63.6892,
          68.4722,
          74.0301,
          75.0448,
          69.3053,
          65.8735,
          69.0706,
          84.1949,
          84.3598,
          0,
          73.1964,
          67.2781,
          65.8218,
          71.4654,
          76.61399999999999,
          77.1052,
          73.061,
          67.4365,
          68.5665,
          77.6839,
          86.0214,
          77.5573,
          110.04749999999999,
          67.15,
          68.8162,
          74.8448,
          80.0928,
          79.1606,
          73.5743,
          68.7538,
          72.5166,
          79.4894,
          85.2855,
          80.1643,
          74.5275,
          69.6441,
          67.1784,
          71.2078,
          77.5081,
          76.5374,
          72.3541,
          69.0286,
          73.4992,
          84.5159,
          87.9464,
          84.5561,
          0,
          71.0578,
          67.6762,
          74.3297,
          82.1048,
          82.0605,
          74.6031,
          69.681,
          74.4292,
          84.2284,
          94.1386,
          87.1607,
          79.2456,
          70.9749,
          69.3844,
          0,
          83.277,
          81.8872,
          75.6826,
          71.2661,
          112.8687,
          84.8147,
          92.4532,
          87.4033,
          81.2661,
          73.8167,
          73.2682,
          117.4539,
          85.9841,
          89.5467,
          78.5035,
          73.7066,
          79.6543,
          90.8251,
          98.9732,
          92.8883,
          86.9356,
          77.2214,
          76.6826,
          81.9306,
          85.9606,
          86.5562,
          79.1919,
          74.6891,
          81.074,
          90.4855,
          98.4613,
          89.7795,
          124.51875000000001,
          76.1476,
          73.8471,
          79.7645,
          88.4519,
          87.7828,
          81.9386,
          77.5027,
          82.0448,
          92.101,
          94.792,
          87.82,
          86.5549,
          76.7521,
          78.0303,
          86.4579,
          0,
          93.531,
          87.5414,
          80.0924,
          81.4349,
          91.6841,
          102.1348,
          91.1829,
          90.7381,
          80.5176,
          79.3887,
          87.8431,
          97.4903,
          96.4157,
          87.2248,
          80.6409,
          82.2025,
          94.5113,
          102.2301,
          94.2989,
          88.0927,
          81.4425,
          84.4552,
          91.0406,
          95.9957,
          99.3704,
          90.9178,
          83.1408,
          88.041,
          102.4558,
          109.1081,
          97.1717,
          92.8283,
          0,
          82.5465,
          90.3955,
          96.074,
          99.5534,
          88.281,
          82.686,
          82.9319,
          93.0381,
          102.9955,
          95.2075,
          139.8834,
          85.795,
          85.2351,
          93.1896,
          102.39299999999999,
          101.6293,
          93.3089,
          86.9002,
          0,
          100.8003,
          110.1807,
          103.8413,
          94.5532,
          85.06200000000001,
          85.4653,
          91.0761,
          102.22,
          104.4682,
          92.9135,
          86.5047,
          88.5735,
          103.5428,
          113.7226,
          106.15899999999999,
          0,
          86.7233,
          89.0302,
          95.5045,
          101.7948,
          100.2025,
          94.024,
          87.5262,
          89.6144,
          105.7263,
          111.1614,
          101.7795,
          148.43475,
          86.4776,
          87.2234,
          99.5076,
          108.3501,
          109.4862,
          99.1155,
          134.63504999999998,
          90.4587,
          108.2257,
          104.4724,
          101.5196,
          98.4017,
          87.5093,
          90.0222,
          100.5244,
          110.9503,
          111.5192,
          95.7632,
          90.3738,
          92.3566,
          103.066,
          112.0576,
          111.8399,
          99.1925,
          90.8177,
          92.0587,
          100.9676,
          107.5686,
          114.1036,
          152.29739999999998,
          93.0068,
          93.9126,
          106.7528,
          114.8331,
          108.2353,
          0,
          90.9944,
          91.2348,
          103.9581,
          110.7631,
          107.5665,
          97.7183,
          90.9979,
          93.8057,
          0,
          116.8316,
          104.4202,
          97.8529,
          132.29595,
          87.5366,
          97.2387,
          103.9086,
          105.7486,
          94.8823,
          89.2977,
          89.3585,
          110.6844,
          119.0166,
          110.53299999999999,
          98.2672,
          86.3,
          90.8364,
          104.3538,
          112.8066,
          112.9014,
          100.1209,
          88.9251,
          92.775,
          114.3266,
          119.488,
          107.3753,
          0,
          89.3583,
          90.0698,
          102.8204,
          114.7068,
          113.5958,
          99.4712,
          90.3566,
          93.8095,
          107.3312,
          111.9646,
          103.3679,
          93.5772,
          87.5566,
          92.7603,
          101.14,
          113.0357,
          109.8601,
          96.7431,
          90.3805,
          94.3417,
          105.2722,
          115.501,
          106.734,
          102.9948,
          91.0092,
          90.9634,
          100.6957,
          110.148,
          108.1756,
          99.2809,
          91.7871,
          97.2853,
          113.4732,
          0,
          112.8811,
          104.7631,
          90.2867,
          92.134,
          101.87799999999999,
          108.5497,
          108.194,
          100.4172,
          92.3837,
          99.7033,
          109.3477,
          120.2696,
          116.3788,
          104.4706,
          89.7461,
          91.09299999999999,
          102.6495,
          111.6354,
          110.5925,
          152.88060000000002,
          91.5959,
          93.0628,
          103.2203,
          117.0837,
          106.6688,
          95.3548,
          133.9881,
          136.10535000000002,
          156.05624999999998,
          114.5397,
          115.5159,
          102.7637,
          91.4867,
          92.89,
          112.7694,
          114.8505,
          99.4901,
          101.0396,
          0,
          92.0805,
          153.2298,
          112.1538,
          108.9312,
          98.6154,
          93.6137,
          97.3359,
          114.7212,
          129.4048
         ],
         "yaxis": "y"
        }
       ],
       "layout": {
        "template": {
         "data": {
          "bar": [
           {
            "error_x": {
             "color": "#2a3f5f"
            },
            "error_y": {
             "color": "#2a3f5f"
            },
            "marker": {
             "line": {
              "color": "#E5ECF6",
              "width": 0.5
             }
            },
            "type": "bar"
           }
          ],
          "barpolar": [
           {
            "marker": {
             "line": {
              "color": "#E5ECF6",
              "width": 0.5
             }
            },
            "type": "barpolar"
           }
          ],
          "carpet": [
           {
            "aaxis": {
             "endlinecolor": "#2a3f5f",
             "gridcolor": "white",
             "linecolor": "white",
             "minorgridcolor": "white",
             "startlinecolor": "#2a3f5f"
            },
            "baxis": {
             "endlinecolor": "#2a3f5f",
             "gridcolor": "white",
             "linecolor": "white",
             "minorgridcolor": "white",
             "startlinecolor": "#2a3f5f"
            },
            "type": "carpet"
           }
          ],
          "choropleth": [
           {
            "colorbar": {
             "outlinewidth": 0,
             "ticks": ""
            },
            "type": "choropleth"
           }
          ],
          "contour": [
           {
            "colorbar": {
             "outlinewidth": 0,
             "ticks": ""
            },
            "colorscale": [
             [
              0,
              "#0d0887"
             ],
             [
              0.1111111111111111,
              "#46039f"
             ],
             [
              0.2222222222222222,
              "#7201a8"
             ],
             [
              0.3333333333333333,
              "#9c179e"
             ],
             [
              0.4444444444444444,
              "#bd3786"
             ],
             [
              0.5555555555555556,
              "#d8576b"
             ],
             [
              0.6666666666666666,
              "#ed7953"
             ],
             [
              0.7777777777777778,
              "#fb9f3a"
             ],
             [
              0.8888888888888888,
              "#fdca26"
             ],
             [
              1,
              "#f0f921"
             ]
            ],
            "type": "contour"
           }
          ],
          "contourcarpet": [
           {
            "colorbar": {
             "outlinewidth": 0,
             "ticks": ""
            },
            "type": "contourcarpet"
           }
          ],
          "heatmap": [
           {
            "colorbar": {
             "outlinewidth": 0,
             "ticks": ""
            },
            "colorscale": [
             [
              0,
              "#0d0887"
             ],
             [
              0.1111111111111111,
              "#46039f"
             ],
             [
              0.2222222222222222,
              "#7201a8"
             ],
             [
              0.3333333333333333,
              "#9c179e"
             ],
             [
              0.4444444444444444,
              "#bd3786"
             ],
             [
              0.5555555555555556,
              "#d8576b"
             ],
             [
              0.6666666666666666,
              "#ed7953"
             ],
             [
              0.7777777777777778,
              "#fb9f3a"
             ],
             [
              0.8888888888888888,
              "#fdca26"
             ],
             [
              1,
              "#f0f921"
             ]
            ],
            "type": "heatmap"
           }
          ],
          "heatmapgl": [
           {
            "colorbar": {
             "outlinewidth": 0,
             "ticks": ""
            },
            "colorscale": [
             [
              0,
              "#0d0887"
             ],
             [
              0.1111111111111111,
              "#46039f"
             ],
             [
              0.2222222222222222,
              "#7201a8"
             ],
             [
              0.3333333333333333,
              "#9c179e"
             ],
             [
              0.4444444444444444,
              "#bd3786"
             ],
             [
              0.5555555555555556,
              "#d8576b"
             ],
             [
              0.6666666666666666,
              "#ed7953"
             ],
             [
              0.7777777777777778,
              "#fb9f3a"
             ],
             [
              0.8888888888888888,
              "#fdca26"
             ],
             [
              1,
              "#f0f921"
             ]
            ],
            "type": "heatmapgl"
           }
          ],
          "histogram": [
           {
            "marker": {
             "colorbar": {
              "outlinewidth": 0,
              "ticks": ""
             }
            },
            "type": "histogram"
           }
          ],
          "histogram2d": [
           {
            "colorbar": {
             "outlinewidth": 0,
             "ticks": ""
            },
            "colorscale": [
             [
              0,
              "#0d0887"
             ],
             [
              0.1111111111111111,
              "#46039f"
             ],
             [
              0.2222222222222222,
              "#7201a8"
             ],
             [
              0.3333333333333333,
              "#9c179e"
             ],
             [
              0.4444444444444444,
              "#bd3786"
             ],
             [
              0.5555555555555556,
              "#d8576b"
             ],
             [
              0.6666666666666666,
              "#ed7953"
             ],
             [
              0.7777777777777778,
              "#fb9f3a"
             ],
             [
              0.8888888888888888,
              "#fdca26"
             ],
             [
              1,
              "#f0f921"
             ]
            ],
            "type": "histogram2d"
           }
          ],
          "histogram2dcontour": [
           {
            "colorbar": {
             "outlinewidth": 0,
             "ticks": ""
            },
            "colorscale": [
             [
              0,
              "#0d0887"
             ],
             [
              0.1111111111111111,
              "#46039f"
             ],
             [
              0.2222222222222222,
              "#7201a8"
             ],
             [
              0.3333333333333333,
              "#9c179e"
             ],
             [
              0.4444444444444444,
              "#bd3786"
             ],
             [
              0.5555555555555556,
              "#d8576b"
             ],
             [
              0.6666666666666666,
              "#ed7953"
             ],
             [
              0.7777777777777778,
              "#fb9f3a"
             ],
             [
              0.8888888888888888,
              "#fdca26"
             ],
             [
              1,
              "#f0f921"
             ]
            ],
            "type": "histogram2dcontour"
           }
          ],
          "mesh3d": [
           {
            "colorbar": {
             "outlinewidth": 0,
             "ticks": ""
            },
            "type": "mesh3d"
           }
          ],
          "parcoords": [
           {
            "line": {
             "colorbar": {
              "outlinewidth": 0,
              "ticks": ""
             }
            },
            "type": "parcoords"
           }
          ],
          "pie": [
           {
            "automargin": true,
            "type": "pie"
           }
          ],
          "scatter": [
           {
            "marker": {
             "colorbar": {
              "outlinewidth": 0,
              "ticks": ""
             }
            },
            "type": "scatter"
           }
          ],
          "scatter3d": [
           {
            "line": {
             "colorbar": {
              "outlinewidth": 0,
              "ticks": ""
             }
            },
            "marker": {
             "colorbar": {
              "outlinewidth": 0,
              "ticks": ""
             }
            },
            "type": "scatter3d"
           }
          ],
          "scattercarpet": [
           {
            "marker": {
             "colorbar": {
              "outlinewidth": 0,
              "ticks": ""
             }
            },
            "type": "scattercarpet"
           }
          ],
          "scattergeo": [
           {
            "marker": {
             "colorbar": {
              "outlinewidth": 0,
              "ticks": ""
             }
            },
            "type": "scattergeo"
           }
          ],
          "scattergl": [
           {
            "marker": {
             "colorbar": {
              "outlinewidth": 0,
              "ticks": ""
             }
            },
            "type": "scattergl"
           }
          ],
          "scattermapbox": [
           {
            "marker": {
             "colorbar": {
              "outlinewidth": 0,
              "ticks": ""
             }
            },
            "type": "scattermapbox"
           }
          ],
          "scatterpolar": [
           {
            "marker": {
             "colorbar": {
              "outlinewidth": 0,
              "ticks": ""
             }
            },
            "type": "scatterpolar"
           }
          ],
          "scatterpolargl": [
           {
            "marker": {
             "colorbar": {
              "outlinewidth": 0,
              "ticks": ""
             }
            },
            "type": "scatterpolargl"
           }
          ],
          "scatterternary": [
           {
            "marker": {
             "colorbar": {
              "outlinewidth": 0,
              "ticks": ""
             }
            },
            "type": "scatterternary"
           }
          ],
          "surface": [
           {
            "colorbar": {
             "outlinewidth": 0,
             "ticks": ""
            },
            "colorscale": [
             [
              0,
              "#0d0887"
             ],
             [
              0.1111111111111111,
              "#46039f"
             ],
             [
              0.2222222222222222,
              "#7201a8"
             ],
             [
              0.3333333333333333,
              "#9c179e"
             ],
             [
              0.4444444444444444,
              "#bd3786"
             ],
             [
              0.5555555555555556,
              "#d8576b"
             ],
             [
              0.6666666666666666,
              "#ed7953"
             ],
             [
              0.7777777777777778,
              "#fb9f3a"
             ],
             [
              0.8888888888888888,
              "#fdca26"
             ],
             [
              1,
              "#f0f921"
             ]
            ],
            "type": "surface"
           }
          ],
          "table": [
           {
            "cells": {
             "fill": {
              "color": "#EBF0F8"
             },
             "line": {
              "color": "white"
             }
            },
            "header": {
             "fill": {
              "color": "#C8D4E3"
             },
             "line": {
              "color": "white"
             }
            },
            "type": "table"
           }
          ]
         },
         "layout": {
          "annotationdefaults": {
           "arrowcolor": "#2a3f5f",
           "arrowhead": 0,
           "arrowwidth": 1
          },
          "autotypenumbers": "strict",
          "coloraxis": {
           "colorbar": {
            "outlinewidth": 0,
            "ticks": ""
           }
          },
          "colorscale": {
           "diverging": [
            [
             0,
             "#8e0152"
            ],
            [
             0.1,
             "#c51b7d"
            ],
            [
             0.2,
             "#de77ae"
            ],
            [
             0.3,
             "#f1b6da"
            ],
            [
             0.4,
             "#fde0ef"
            ],
            [
             0.5,
             "#f7f7f7"
            ],
            [
             0.6,
             "#e6f5d0"
            ],
            [
             0.7,
             "#b8e186"
            ],
            [
             0.8,
             "#7fbc41"
            ],
            [
             0.9,
             "#4d9221"
            ],
            [
             1,
             "#276419"
            ]
           ],
           "sequential": [
            [
             0,
             "#0d0887"
            ],
            [
             0.1111111111111111,
             "#46039f"
            ],
            [
             0.2222222222222222,
             "#7201a8"
            ],
            [
             0.3333333333333333,
             "#9c179e"
            ],
            [
             0.4444444444444444,
             "#bd3786"
            ],
            [
             0.5555555555555556,
             "#d8576b"
            ],
            [
             0.6666666666666666,
             "#ed7953"
            ],
            [
             0.7777777777777778,
             "#fb9f3a"
            ],
            [
             0.8888888888888888,
             "#fdca26"
            ],
            [
             1,
             "#f0f921"
            ]
           ],
           "sequentialminus": [
            [
             0,
             "#0d0887"
            ],
            [
             0.1111111111111111,
             "#46039f"
            ],
            [
             0.2222222222222222,
             "#7201a8"
            ],
            [
             0.3333333333333333,
             "#9c179e"
            ],
            [
             0.4444444444444444,
             "#bd3786"
            ],
            [
             0.5555555555555556,
             "#d8576b"
            ],
            [
             0.6666666666666666,
             "#ed7953"
            ],
            [
             0.7777777777777778,
             "#fb9f3a"
            ],
            [
             0.8888888888888888,
             "#fdca26"
            ],
            [
             1,
             "#f0f921"
            ]
           ]
          },
          "colorway": [
           "#636efa",
           "#EF553B",
           "#00cc96",
           "#ab63fa",
           "#FFA15A",
           "#19d3f3",
           "#FF6692",
           "#B6E880",
           "#FF97FF",
           "#FECB52"
          ],
          "font": {
           "color": "#2a3f5f"
          },
          "geo": {
           "bgcolor": "white",
           "lakecolor": "white",
           "landcolor": "#E5ECF6",
           "showlakes": true,
           "showland": true,
           "subunitcolor": "white"
          },
          "hoverlabel": {
           "align": "left"
          },
          "hovermode": "closest",
          "mapbox": {
           "style": "light"
          },
          "paper_bgcolor": "white",
          "plot_bgcolor": "#E5ECF6",
          "polar": {
           "angularaxis": {
            "gridcolor": "white",
            "linecolor": "white",
            "ticks": ""
           },
           "bgcolor": "#E5ECF6",
           "radialaxis": {
            "gridcolor": "white",
            "linecolor": "white",
            "ticks": ""
           }
          },
          "scene": {
           "xaxis": {
            "backgroundcolor": "#E5ECF6",
            "gridcolor": "white",
            "gridwidth": 2,
            "linecolor": "white",
            "showbackground": true,
            "ticks": "",
            "zerolinecolor": "white"
           },
           "yaxis": {
            "backgroundcolor": "#E5ECF6",
            "gridcolor": "white",
            "gridwidth": 2,
            "linecolor": "white",
            "showbackground": true,
            "ticks": "",
            "zerolinecolor": "white"
           },
           "zaxis": {
            "backgroundcolor": "#E5ECF6",
            "gridcolor": "white",
            "gridwidth": 2,
            "linecolor": "white",
            "showbackground": true,
            "ticks": "",
            "zerolinecolor": "white"
           }
          },
          "shapedefaults": {
           "line": {
            "color": "#2a3f5f"
           }
          },
          "ternary": {
           "aaxis": {
            "gridcolor": "white",
            "linecolor": "white",
            "ticks": ""
           },
           "baxis": {
            "gridcolor": "white",
            "linecolor": "white",
            "ticks": ""
           },
           "bgcolor": "#E5ECF6",
           "caxis": {
            "gridcolor": "white",
            "linecolor": "white",
            "ticks": ""
           }
          },
          "title": {
           "x": 0.05
          },
          "xaxis": {
           "automargin": true,
           "gridcolor": "white",
           "linecolor": "white",
           "ticks": "",
           "title": {
            "standoff": 15
           },
           "zerolinecolor": "white",
           "zerolinewidth": 2
          },
          "yaxis": {
           "automargin": true,
           "gridcolor": "white",
           "linecolor": "white",
           "ticks": "",
           "title": {
            "standoff": 15
           },
           "zerolinecolor": "white",
           "zerolinewidth": 2
          }
         }
        },
        "title": {
         "text": "Dataset with outliers"
        },
        "xaxis": {
         "anchor": "y",
         "domain": [
          0,
          0.94
         ],
         "title": {
          "text": "Time (months)"
         }
        },
        "yaxis": {
         "anchor": "x",
         "domain": [
          0,
          1
         ],
         "title": {
          "text": "Eletric Production"
         }
        },
        "yaxis2": {
         "anchor": "x",
         "overlaying": "y",
         "side": "right"
        }
       }
      }
     },
     "metadata": {},
     "output_type": "display_data"
    }
   ],
   "source": [
    "figure = make_subplots(specs=[[{\"secondary_y\": True}]])\n",
    "\n",
    "figure.update_layout(\n",
    "    title=\"Dataset with outliers\"\n",
    ")\n",
    "\n",
    "figure.add_trace(\n",
    "    go.Scatter(y=data['Outlier'], name='With Outliers'),\n",
    "    secondary_y=False\n",
    ")\n",
    "\n",
    "figure.update_xaxes(title='Time (months)')\n",
    "figure.update_yaxes(title='Eletric Production', secondary_y=False)\n",
    "figure.show()"
   ]
  },
  {
   "cell_type": "code",
   "execution_count": 13,
   "metadata": {},
   "outputs": [],
   "source": [
    "RMSE_full = []\n",
    "MAE_full = []\n",
    "\n",
    "window = 3\n",
    "forecasting = 2\n",
    "n_neighbors = 10\n",
    "\n",
    "# Data processing\n",
    "df, df_train, df_test, X_train, y_train, X_test, y_test = dataSplit(data[\"Outlier\"], data[\"label\"], window=window, forecasting=forecasting, N_splits=4)\n",
    "\n",
    "#TEDA\n",
    "teda = TEDA(threshold=1.2)\n",
    "N_outlier_max = 3    # Consecutive outlier correction flagN_outlier_max   # Maximum of outliers corrected by TEDAForecasting\n",
    "correction = True    # Consecutive outlier correction flag\n",
    "\n",
    "FLAG = []\n",
    "\n",
    "# kNN Model\n",
    "n_neighbors = 10\n",
    "knn_model = neighbors.KNeighborsRegressor(n_neighbors, weights=\"uniform\")\n",
    "\n",
    "#fit\n",
    "knn_model.fit(X_train, y_train)\n",
    "\n",
    "\n",
    "Y_KNN = []\n",
    "Ya_py = []          # Vector of auxiliary predicted values\n",
    "Y_py = []           # Vector of predicted values\n",
    "Y_v = []            # Vector of virtual predicted values\n",
    "DB = []             # Vector of saved values (database)\n",
    "outlier_count = 0   # Outlier count \n",
    "y_knn_pred_py = 0.0     # Initial predicted value\n",
    "X_ant = np.zeros(window).tolist()         # Initial previous input\n",
    "\n",
    "\n",
    "for i in X_test:\n",
    "    ## Acquiring the data input\n",
    "\n",
    "    valor_atual = []\n",
    "    for j in X_ant[1:]:\n",
    "        valor_atual.append(j)\n",
    "    valor_atual.append(i[-1])\n",
    "\n",
    "    #Checking if it is an outlier\n",
    "    flag = teda.run(valor_atual[-1])\n",
    "    FLAG.append(flag)\n",
    "\n",
    "    ## First Stage: Correcting outlier\n",
    "    if (flag == 1):      \n",
    "        outlier_count = outlier_count + 1\n",
    "        valor_atual[-1] = y_knn_pred_py[0]\n",
    "    else:\n",
    "        outlier_count = 0\n",
    "    \n",
    "    #Evaluating the flood of outliers\n",
    "    if(correction == True and outlier_count == N_outlier_max + 1):\n",
    "        valor_atual[-1] = i[0]\n",
    "    \n",
    "    #Saving \n",
    "    Ya_py.append(y_knn_pred_py)\n",
    "\n",
    "    input_vector_reshaped = np.array(valor_atual).reshape(1,-1)\n",
    "    #Predicting the next value\n",
    "    y_knn = knn_model.predict(input_vector_reshaped)\n",
    "    y_knn_pred_py = y_knn[0]\n",
    "\n",
    "    Y_KNN.append(y_knn_pred_py)\n",
    "\n",
    "    \n",
    "    # Second stage\n",
    "    if (flag == 1):\n",
    "        valor_atual[-1] = y_knn_pred_py[0]\n",
    "\n",
    "    if(correction == True and outlier_count == N_outlier_max + 1):\n",
    "        outlier_count = 0\n",
    "        valor_atual[-1] = i[0]\n",
    "        \n",
    "    DB.append(valor_atual)\n",
    "\n",
    "    #Updating previous values vector\n",
    "    X_ant = valor_atual\n",
    "\n",
    "\n",
    "df_test['flag_py'] = FLAG\n",
    "df_test['save_py'] = DB\n",
    "df_test['ya_pred_py'] = Ya_py\n",
    "df_test['y_knn_pred_py'] = Y_KNN\n",
    "\n",
    "numberOfOutliersPython = df_test['flag_py'].sum()\n",
    "outliersIndexPython = find_indices(df_test['flag_py'], 1)\n",
    "\n",
    "# TEDA Metrics:\n",
    "f1 = f1_score(df_test['label'], df_test['flag_py'])\n",
    "accuracy = accuracy_score(df_test['label'], df_test['flag_py'])\n",
    "recall = recall_score(df_test['label'], df_test['flag_py'])\n",
    "\n",
    "\n",
    "# Forecasting\n",
    "RMSE_KNN = []\n",
    "for i in range(0, forecasting):\n",
    "    rmse = mean_squared_error(y_test[0:-1, i], np.array(Y_KNN)[1:, i], squared=False)\n",
    "    RMSE_KNN.append(rmse)\n",
    "rmse_pred = mean_squared_error(y_test[0:-1, 0], np.array(Y_KNN)[1:, 0], squared=False)\n",
    "RMSE_full.append(RMSE_KNN)\n",
    "RMSE_mean = np.mean(RMSE_KNN)\n",
    "RMSE_max = np.max(RMSE_KNN)\n",
    "RMSE_min = np.min(RMSE_KNN)\n",
    "RMSE_std = np.std(RMSE_KNN)\n",
    "\n",
    "MAE_KNN = []\n",
    "for i in range(0, forecasting):\n",
    "    mae = mean_absolute_error(y_test[0:-1, i], np.array(Y_KNN)[1:, i])\n",
    "    MAE_KNN.append(mae)\n",
    "mae_pred = mean_absolute_error(y_test[0:-1, 0], np.array(Y_KNN)[1:, 0])\n",
    "MAE_full.append(MAE_KNN)\n",
    "MAE_mean = np.mean(MAE_KNN)\n",
    "MAE_max = np.max(MAE_KNN)\n",
    "MAE_min = np.min(MAE_KNN)\n",
    "MAE_std = np.std(MAE_KNN)\n"
   ]
  },
  {
   "cell_type": "markdown",
   "metadata": {},
   "source": [
    "# Visualization"
   ]
  },
  {
   "cell_type": "code",
   "execution_count": 14,
   "metadata": {},
   "outputs": [
    {
     "data": {
      "application/vnd.plotly.v1+json": {
       "config": {
        "plotlyServerURL": "https://plot.ly"
       },
       "data": [
        {
         "name": "Production With Outliers",
         "type": "scatter",
         "xaxis": "x",
         "y": [
          114.7068,
          113.5958,
          99.4712,
          90.3566,
          93.8095,
          107.3312,
          111.9646,
          103.3679,
          93.5772,
          87.5566,
          92.7603,
          101.14,
          113.0357,
          109.8601,
          96.7431,
          90.3805,
          94.3417,
          105.2722,
          115.501,
          106.734,
          102.9948,
          91.0092,
          90.9634,
          100.6957,
          110.148,
          108.1756,
          99.2809,
          91.7871,
          97.2853,
          113.4732,
          0,
          112.8811,
          104.7631,
          90.2867,
          92.134,
          101.87799999999999,
          108.5497,
          108.194,
          100.4172,
          92.3837,
          99.7033,
          109.3477,
          120.2696,
          116.3788,
          104.4706,
          89.7461,
          91.09299999999999,
          102.6495,
          111.6354,
          110.5925,
          152.88060000000002,
          91.5959,
          93.0628,
          103.2203,
          117.0837,
          106.6688,
          95.3548,
          133.9881,
          136.10535000000002,
          156.05624999999998,
          114.5397,
          115.5159,
          102.7637,
          91.4867,
          92.89,
          112.7694,
          114.8505,
          99.4901,
          101.0396,
          0,
          92.0805,
          153.2298,
          112.1538,
          108.9312,
          98.6154,
          93.6137,
          97.3359
         ],
         "yaxis": "y"
        },
        {
         "name": "kNN",
         "type": "scatter",
         "xaxis": "x",
         "y": [
          89.59777,
          83.70282,
          94.04425500000002,
          80.21597,
          100.05747,
          101.84997999999999,
          110.71768999999999,
          84.44837,
          85.902335,
          77.02564,
          100.63283,
          95.78836000000001,
          94.25471,
          110.25273999999999,
          97.07506,
          81.88537,
          94.56477,
          101.84997999999999,
          102.08477000000002,
          110.33107,
          94.80784,
          80.60054,
          94.45797000000002,
          97.45318,
          106.54405000000001,
          83.36433,
          104.92416500000002,
          81.06793000000002,
          90.95352,
          95.041595,
          83.54909,
          105.71466000000001,
          103.69098999999999,
          86.056205,
          74.53251,
          103.9645,
          105.41638,
          98.207805,
          100.9774,
          81.06793000000002,
          88.72328,
          107.41146,
          109.73743999999999,
          74.2475,
          81.26127,
          85.30563499999998,
          84.96789000000001,
          108.53302,
          108.07623000000001,
          88.71957499999999,
          94.144765,
          80.17245,
          92.97468,
          105.41291999999999,
          112.00028999999999,
          83.316555,
          98.42412,
          80.84345,
          83.32081999999998,
          79.09674,
          102.77203000000002,
          106.50811999999999,
          82.87514999999999,
          86.056205,
          74.53251,
          113.52354,
          110.74069999999999,
          86.278025,
          89.96171999999999,
          85.65706,
          89.69188000000001,
          81.97637999999999,
          109.01070999999999,
          105.18703000000001,
          104.624395,
          80.73522,
          85.63122
         ],
         "yaxis": "y"
        }
       ],
       "layout": {
        "template": {
         "data": {
          "bar": [
           {
            "error_x": {
             "color": "#2a3f5f"
            },
            "error_y": {
             "color": "#2a3f5f"
            },
            "marker": {
             "line": {
              "color": "#E5ECF6",
              "width": 0.5
             }
            },
            "type": "bar"
           }
          ],
          "barpolar": [
           {
            "marker": {
             "line": {
              "color": "#E5ECF6",
              "width": 0.5
             }
            },
            "type": "barpolar"
           }
          ],
          "carpet": [
           {
            "aaxis": {
             "endlinecolor": "#2a3f5f",
             "gridcolor": "white",
             "linecolor": "white",
             "minorgridcolor": "white",
             "startlinecolor": "#2a3f5f"
            },
            "baxis": {
             "endlinecolor": "#2a3f5f",
             "gridcolor": "white",
             "linecolor": "white",
             "minorgridcolor": "white",
             "startlinecolor": "#2a3f5f"
            },
            "type": "carpet"
           }
          ],
          "choropleth": [
           {
            "colorbar": {
             "outlinewidth": 0,
             "ticks": ""
            },
            "type": "choropleth"
           }
          ],
          "contour": [
           {
            "colorbar": {
             "outlinewidth": 0,
             "ticks": ""
            },
            "colorscale": [
             [
              0,
              "#0d0887"
             ],
             [
              0.1111111111111111,
              "#46039f"
             ],
             [
              0.2222222222222222,
              "#7201a8"
             ],
             [
              0.3333333333333333,
              "#9c179e"
             ],
             [
              0.4444444444444444,
              "#bd3786"
             ],
             [
              0.5555555555555556,
              "#d8576b"
             ],
             [
              0.6666666666666666,
              "#ed7953"
             ],
             [
              0.7777777777777778,
              "#fb9f3a"
             ],
             [
              0.8888888888888888,
              "#fdca26"
             ],
             [
              1,
              "#f0f921"
             ]
            ],
            "type": "contour"
           }
          ],
          "contourcarpet": [
           {
            "colorbar": {
             "outlinewidth": 0,
             "ticks": ""
            },
            "type": "contourcarpet"
           }
          ],
          "heatmap": [
           {
            "colorbar": {
             "outlinewidth": 0,
             "ticks": ""
            },
            "colorscale": [
             [
              0,
              "#0d0887"
             ],
             [
              0.1111111111111111,
              "#46039f"
             ],
             [
              0.2222222222222222,
              "#7201a8"
             ],
             [
              0.3333333333333333,
              "#9c179e"
             ],
             [
              0.4444444444444444,
              "#bd3786"
             ],
             [
              0.5555555555555556,
              "#d8576b"
             ],
             [
              0.6666666666666666,
              "#ed7953"
             ],
             [
              0.7777777777777778,
              "#fb9f3a"
             ],
             [
              0.8888888888888888,
              "#fdca26"
             ],
             [
              1,
              "#f0f921"
             ]
            ],
            "type": "heatmap"
           }
          ],
          "heatmapgl": [
           {
            "colorbar": {
             "outlinewidth": 0,
             "ticks": ""
            },
            "colorscale": [
             [
              0,
              "#0d0887"
             ],
             [
              0.1111111111111111,
              "#46039f"
             ],
             [
              0.2222222222222222,
              "#7201a8"
             ],
             [
              0.3333333333333333,
              "#9c179e"
             ],
             [
              0.4444444444444444,
              "#bd3786"
             ],
             [
              0.5555555555555556,
              "#d8576b"
             ],
             [
              0.6666666666666666,
              "#ed7953"
             ],
             [
              0.7777777777777778,
              "#fb9f3a"
             ],
             [
              0.8888888888888888,
              "#fdca26"
             ],
             [
              1,
              "#f0f921"
             ]
            ],
            "type": "heatmapgl"
           }
          ],
          "histogram": [
           {
            "marker": {
             "colorbar": {
              "outlinewidth": 0,
              "ticks": ""
             }
            },
            "type": "histogram"
           }
          ],
          "histogram2d": [
           {
            "colorbar": {
             "outlinewidth": 0,
             "ticks": ""
            },
            "colorscale": [
             [
              0,
              "#0d0887"
             ],
             [
              0.1111111111111111,
              "#46039f"
             ],
             [
              0.2222222222222222,
              "#7201a8"
             ],
             [
              0.3333333333333333,
              "#9c179e"
             ],
             [
              0.4444444444444444,
              "#bd3786"
             ],
             [
              0.5555555555555556,
              "#d8576b"
             ],
             [
              0.6666666666666666,
              "#ed7953"
             ],
             [
              0.7777777777777778,
              "#fb9f3a"
             ],
             [
              0.8888888888888888,
              "#fdca26"
             ],
             [
              1,
              "#f0f921"
             ]
            ],
            "type": "histogram2d"
           }
          ],
          "histogram2dcontour": [
           {
            "colorbar": {
             "outlinewidth": 0,
             "ticks": ""
            },
            "colorscale": [
             [
              0,
              "#0d0887"
             ],
             [
              0.1111111111111111,
              "#46039f"
             ],
             [
              0.2222222222222222,
              "#7201a8"
             ],
             [
              0.3333333333333333,
              "#9c179e"
             ],
             [
              0.4444444444444444,
              "#bd3786"
             ],
             [
              0.5555555555555556,
              "#d8576b"
             ],
             [
              0.6666666666666666,
              "#ed7953"
             ],
             [
              0.7777777777777778,
              "#fb9f3a"
             ],
             [
              0.8888888888888888,
              "#fdca26"
             ],
             [
              1,
              "#f0f921"
             ]
            ],
            "type": "histogram2dcontour"
           }
          ],
          "mesh3d": [
           {
            "colorbar": {
             "outlinewidth": 0,
             "ticks": ""
            },
            "type": "mesh3d"
           }
          ],
          "parcoords": [
           {
            "line": {
             "colorbar": {
              "outlinewidth": 0,
              "ticks": ""
             }
            },
            "type": "parcoords"
           }
          ],
          "pie": [
           {
            "automargin": true,
            "type": "pie"
           }
          ],
          "scatter": [
           {
            "marker": {
             "colorbar": {
              "outlinewidth": 0,
              "ticks": ""
             }
            },
            "type": "scatter"
           }
          ],
          "scatter3d": [
           {
            "line": {
             "colorbar": {
              "outlinewidth": 0,
              "ticks": ""
             }
            },
            "marker": {
             "colorbar": {
              "outlinewidth": 0,
              "ticks": ""
             }
            },
            "type": "scatter3d"
           }
          ],
          "scattercarpet": [
           {
            "marker": {
             "colorbar": {
              "outlinewidth": 0,
              "ticks": ""
             }
            },
            "type": "scattercarpet"
           }
          ],
          "scattergeo": [
           {
            "marker": {
             "colorbar": {
              "outlinewidth": 0,
              "ticks": ""
             }
            },
            "type": "scattergeo"
           }
          ],
          "scattergl": [
           {
            "marker": {
             "colorbar": {
              "outlinewidth": 0,
              "ticks": ""
             }
            },
            "type": "scattergl"
           }
          ],
          "scattermapbox": [
           {
            "marker": {
             "colorbar": {
              "outlinewidth": 0,
              "ticks": ""
             }
            },
            "type": "scattermapbox"
           }
          ],
          "scatterpolar": [
           {
            "marker": {
             "colorbar": {
              "outlinewidth": 0,
              "ticks": ""
             }
            },
            "type": "scatterpolar"
           }
          ],
          "scatterpolargl": [
           {
            "marker": {
             "colorbar": {
              "outlinewidth": 0,
              "ticks": ""
             }
            },
            "type": "scatterpolargl"
           }
          ],
          "scatterternary": [
           {
            "marker": {
             "colorbar": {
              "outlinewidth": 0,
              "ticks": ""
             }
            },
            "type": "scatterternary"
           }
          ],
          "surface": [
           {
            "colorbar": {
             "outlinewidth": 0,
             "ticks": ""
            },
            "colorscale": [
             [
              0,
              "#0d0887"
             ],
             [
              0.1111111111111111,
              "#46039f"
             ],
             [
              0.2222222222222222,
              "#7201a8"
             ],
             [
              0.3333333333333333,
              "#9c179e"
             ],
             [
              0.4444444444444444,
              "#bd3786"
             ],
             [
              0.5555555555555556,
              "#d8576b"
             ],
             [
              0.6666666666666666,
              "#ed7953"
             ],
             [
              0.7777777777777778,
              "#fb9f3a"
             ],
             [
              0.8888888888888888,
              "#fdca26"
             ],
             [
              1,
              "#f0f921"
             ]
            ],
            "type": "surface"
           }
          ],
          "table": [
           {
            "cells": {
             "fill": {
              "color": "#EBF0F8"
             },
             "line": {
              "color": "white"
             }
            },
            "header": {
             "fill": {
              "color": "#C8D4E3"
             },
             "line": {
              "color": "white"
             }
            },
            "type": "table"
           }
          ]
         },
         "layout": {
          "annotationdefaults": {
           "arrowcolor": "#2a3f5f",
           "arrowhead": 0,
           "arrowwidth": 1
          },
          "autotypenumbers": "strict",
          "coloraxis": {
           "colorbar": {
            "outlinewidth": 0,
            "ticks": ""
           }
          },
          "colorscale": {
           "diverging": [
            [
             0,
             "#8e0152"
            ],
            [
             0.1,
             "#c51b7d"
            ],
            [
             0.2,
             "#de77ae"
            ],
            [
             0.3,
             "#f1b6da"
            ],
            [
             0.4,
             "#fde0ef"
            ],
            [
             0.5,
             "#f7f7f7"
            ],
            [
             0.6,
             "#e6f5d0"
            ],
            [
             0.7,
             "#b8e186"
            ],
            [
             0.8,
             "#7fbc41"
            ],
            [
             0.9,
             "#4d9221"
            ],
            [
             1,
             "#276419"
            ]
           ],
           "sequential": [
            [
             0,
             "#0d0887"
            ],
            [
             0.1111111111111111,
             "#46039f"
            ],
            [
             0.2222222222222222,
             "#7201a8"
            ],
            [
             0.3333333333333333,
             "#9c179e"
            ],
            [
             0.4444444444444444,
             "#bd3786"
            ],
            [
             0.5555555555555556,
             "#d8576b"
            ],
            [
             0.6666666666666666,
             "#ed7953"
            ],
            [
             0.7777777777777778,
             "#fb9f3a"
            ],
            [
             0.8888888888888888,
             "#fdca26"
            ],
            [
             1,
             "#f0f921"
            ]
           ],
           "sequentialminus": [
            [
             0,
             "#0d0887"
            ],
            [
             0.1111111111111111,
             "#46039f"
            ],
            [
             0.2222222222222222,
             "#7201a8"
            ],
            [
             0.3333333333333333,
             "#9c179e"
            ],
            [
             0.4444444444444444,
             "#bd3786"
            ],
            [
             0.5555555555555556,
             "#d8576b"
            ],
            [
             0.6666666666666666,
             "#ed7953"
            ],
            [
             0.7777777777777778,
             "#fb9f3a"
            ],
            [
             0.8888888888888888,
             "#fdca26"
            ],
            [
             1,
             "#f0f921"
            ]
           ]
          },
          "colorway": [
           "#636efa",
           "#EF553B",
           "#00cc96",
           "#ab63fa",
           "#FFA15A",
           "#19d3f3",
           "#FF6692",
           "#B6E880",
           "#FF97FF",
           "#FECB52"
          ],
          "font": {
           "color": "#2a3f5f"
          },
          "geo": {
           "bgcolor": "white",
           "lakecolor": "white",
           "landcolor": "#E5ECF6",
           "showlakes": true,
           "showland": true,
           "subunitcolor": "white"
          },
          "hoverlabel": {
           "align": "left"
          },
          "hovermode": "closest",
          "mapbox": {
           "style": "light"
          },
          "paper_bgcolor": "white",
          "plot_bgcolor": "#E5ECF6",
          "polar": {
           "angularaxis": {
            "gridcolor": "white",
            "linecolor": "white",
            "ticks": ""
           },
           "bgcolor": "#E5ECF6",
           "radialaxis": {
            "gridcolor": "white",
            "linecolor": "white",
            "ticks": ""
           }
          },
          "scene": {
           "xaxis": {
            "backgroundcolor": "#E5ECF6",
            "gridcolor": "white",
            "gridwidth": 2,
            "linecolor": "white",
            "showbackground": true,
            "ticks": "",
            "zerolinecolor": "white"
           },
           "yaxis": {
            "backgroundcolor": "#E5ECF6",
            "gridcolor": "white",
            "gridwidth": 2,
            "linecolor": "white",
            "showbackground": true,
            "ticks": "",
            "zerolinecolor": "white"
           },
           "zaxis": {
            "backgroundcolor": "#E5ECF6",
            "gridcolor": "white",
            "gridwidth": 2,
            "linecolor": "white",
            "showbackground": true,
            "ticks": "",
            "zerolinecolor": "white"
           }
          },
          "shapedefaults": {
           "line": {
            "color": "#2a3f5f"
           }
          },
          "ternary": {
           "aaxis": {
            "gridcolor": "white",
            "linecolor": "white",
            "ticks": ""
           },
           "baxis": {
            "gridcolor": "white",
            "linecolor": "white",
            "ticks": ""
           },
           "bgcolor": "#E5ECF6",
           "caxis": {
            "gridcolor": "white",
            "linecolor": "white",
            "ticks": ""
           }
          },
          "title": {
           "x": 0.05
          },
          "xaxis": {
           "automargin": true,
           "gridcolor": "white",
           "linecolor": "white",
           "ticks": "",
           "title": {
            "standoff": 15
           },
           "zerolinecolor": "white",
           "zerolinewidth": 2
          },
          "yaxis": {
           "automargin": true,
           "gridcolor": "white",
           "linecolor": "white",
           "ticks": "",
           "title": {
            "standoff": 15
           },
           "zerolinecolor": "white",
           "zerolinewidth": 2
          }
         }
        },
        "title": {
         "text": "Dataset with outliers"
        },
        "xaxis": {
         "anchor": "y",
         "domain": [
          0,
          0.94
         ],
         "title": {
          "text": "Time (months)"
         }
        },
        "yaxis": {
         "anchor": "x",
         "domain": [
          0,
          1
         ],
         "title": {
          "text": "Eletric Production"
         }
        },
        "yaxis2": {
         "anchor": "x",
         "overlaying": "y",
         "side": "right"
        }
       }
      }
     },
     "metadata": {},
     "output_type": "display_data"
    }
   ],
   "source": [
    "figure = make_subplots(specs=[[{\"secondary_y\": True}]])\n",
    "\n",
    "figure.update_layout(\n",
    "    title=\"Dataset with outliers\"\n",
    ")\n",
    "\n",
    "figure.add_trace(\n",
    "    go.Scatter(y=y_test[0:-1, 0], name='Production With Outliers'),\n",
    "    secondary_y=False\n",
    ")\n",
    "\n",
    "figure.add_trace(\n",
    "    go.Scatter(y=np.array(Y_KNN)[1:, 0], name='kNN'),\n",
    "    secondary_y=False\n",
    ")\n",
    "\n",
    "\n",
    "figure.update_xaxes(title='Time (months)')\n",
    "figure.update_yaxes(title='Eletric Production', secondary_y=False)\n",
    "figure.show()"
   ]
  }
 ],
 "metadata": {
  "colab": {
   "authorship_tag": "ABX9TyNLZCZpHdSXWy2xeKwk3pD0",
   "collapsed_sections": [],
   "name": "TesteFree_CO2.ipynb",
   "provenance": [],
   "toc_visible": true
  },
  "kernelspec": {
   "display_name": "Python 3.8.5 ('base')",
   "language": "python",
   "name": "python3"
  },
  "language_info": {
   "codemirror_mode": {
    "name": "ipython",
    "version": 3
   },
   "file_extension": ".py",
   "mimetype": "text/x-python",
   "name": "python",
   "nbconvert_exporter": "python",
   "pygments_lexer": "ipython3",
   "version": "3.8.5"
  },
  "vscode": {
   "interpreter": {
    "hash": "33bea494317c8c22a4760028ceed23349c4667bf8f6d1305a13b8d31b6e7f27d"
   }
  }
 },
 "nbformat": 4,
 "nbformat_minor": 1
}
